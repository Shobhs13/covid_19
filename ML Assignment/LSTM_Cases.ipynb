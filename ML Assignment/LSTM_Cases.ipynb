{
 "cells": [
  {
   "cell_type": "code",
   "execution_count": 1,
   "metadata": {},
   "outputs": [],
   "source": [
    "import pandas as pd\n",
    "import numpy as np\n",
    "import matplotlib.pyplot as plt\n",
    "from sklearn.model_selection import train_test_split\n",
    "from sklearn.ensemble import RandomForestRegressor\n",
    "from sklearn.linear_model import LinearRegression\n",
    "from sklearn.linear_model import LogisticRegression\n",
    "from sklearn.svm import SVC\n",
    "from sklearn.cluster import KMeans\n",
    "import xgboost as xgb "
   ]
  },
  {
   "cell_type": "code",
   "execution_count": 2,
   "metadata": {},
   "outputs": [
    {
     "data": {
      "text/html": [
       "<div>\n",
       "<style scoped>\n",
       "    .dataframe tbody tr th:only-of-type {\n",
       "        vertical-align: middle;\n",
       "    }\n",
       "\n",
       "    .dataframe tbody tr th {\n",
       "        vertical-align: top;\n",
       "    }\n",
       "\n",
       "    .dataframe thead th {\n",
       "        text-align: right;\n",
       "    }\n",
       "</style>\n",
       "<table border=\"1\" class=\"dataframe\">\n",
       "  <thead>\n",
       "    <tr style=\"text-align: right;\">\n",
       "      <th></th>\n",
       "      <th>Date</th>\n",
       "      <th>Date_YMD</th>\n",
       "      <th>Daily Confirmed</th>\n",
       "      <th>Total Confirmed</th>\n",
       "      <th>Daily Recovered</th>\n",
       "      <th>Total Recovered</th>\n",
       "      <th>Daily Deceased</th>\n",
       "      <th>Total Deceased</th>\n",
       "    </tr>\n",
       "  </thead>\n",
       "  <tbody>\n",
       "    <tr>\n",
       "      <th>0</th>\n",
       "      <td>30 January 2020</td>\n",
       "      <td>2020-01-30</td>\n",
       "      <td>1</td>\n",
       "      <td>1</td>\n",
       "      <td>0</td>\n",
       "      <td>0</td>\n",
       "      <td>0</td>\n",
       "      <td>0</td>\n",
       "    </tr>\n",
       "    <tr>\n",
       "      <th>1</th>\n",
       "      <td>31 January 2020</td>\n",
       "      <td>2020-01-31</td>\n",
       "      <td>0</td>\n",
       "      <td>1</td>\n",
       "      <td>0</td>\n",
       "      <td>0</td>\n",
       "      <td>0</td>\n",
       "      <td>0</td>\n",
       "    </tr>\n",
       "    <tr>\n",
       "      <th>2</th>\n",
       "      <td>1 February 2020</td>\n",
       "      <td>2020-02-01</td>\n",
       "      <td>0</td>\n",
       "      <td>1</td>\n",
       "      <td>0</td>\n",
       "      <td>0</td>\n",
       "      <td>0</td>\n",
       "      <td>0</td>\n",
       "    </tr>\n",
       "    <tr>\n",
       "      <th>3</th>\n",
       "      <td>2 February 2020</td>\n",
       "      <td>2020-02-02</td>\n",
       "      <td>1</td>\n",
       "      <td>2</td>\n",
       "      <td>0</td>\n",
       "      <td>0</td>\n",
       "      <td>0</td>\n",
       "      <td>0</td>\n",
       "    </tr>\n",
       "    <tr>\n",
       "      <th>4</th>\n",
       "      <td>3 February 2020</td>\n",
       "      <td>2020-02-03</td>\n",
       "      <td>1</td>\n",
       "      <td>3</td>\n",
       "      <td>0</td>\n",
       "      <td>0</td>\n",
       "      <td>0</td>\n",
       "      <td>0</td>\n",
       "    </tr>\n",
       "    <tr>\n",
       "      <th>...</th>\n",
       "      <td>...</td>\n",
       "      <td>...</td>\n",
       "      <td>...</td>\n",
       "      <td>...</td>\n",
       "      <td>...</td>\n",
       "      <td>...</td>\n",
       "      <td>...</td>\n",
       "      <td>...</td>\n",
       "    </tr>\n",
       "    <tr>\n",
       "      <th>490</th>\n",
       "      <td>3 June 2021</td>\n",
       "      <td>2021-06-03</td>\n",
       "      <td>132424</td>\n",
       "      <td>28573286</td>\n",
       "      <td>206722</td>\n",
       "      <td>26589528</td>\n",
       "      <td>2717</td>\n",
       "      <td>340140</td>\n",
       "    </tr>\n",
       "    <tr>\n",
       "      <th>491</th>\n",
       "      <td>4 June 2021</td>\n",
       "      <td>2021-06-04</td>\n",
       "      <td>120454</td>\n",
       "      <td>28693740</td>\n",
       "      <td>197763</td>\n",
       "      <td>26787291</td>\n",
       "      <td>3372</td>\n",
       "      <td>343512</td>\n",
       "    </tr>\n",
       "    <tr>\n",
       "      <th>492</th>\n",
       "      <td>5 June 2021</td>\n",
       "      <td>2021-06-05</td>\n",
       "      <td>114488</td>\n",
       "      <td>28808228</td>\n",
       "      <td>189374</td>\n",
       "      <td>26976665</td>\n",
       "      <td>2682</td>\n",
       "      <td>346194</td>\n",
       "    </tr>\n",
       "    <tr>\n",
       "      <th>493</th>\n",
       "      <td>6 June 2021</td>\n",
       "      <td>2021-06-06</td>\n",
       "      <td>101209</td>\n",
       "      <td>28909437</td>\n",
       "      <td>174156</td>\n",
       "      <td>27150821</td>\n",
       "      <td>2444</td>\n",
       "      <td>348638</td>\n",
       "    </tr>\n",
       "    <tr>\n",
       "      <th>494</th>\n",
       "      <td>7 June 2021</td>\n",
       "      <td>2021-06-07</td>\n",
       "      <td>85803</td>\n",
       "      <td>28995240</td>\n",
       "      <td>182866</td>\n",
       "      <td>27333687</td>\n",
       "      <td>2106</td>\n",
       "      <td>350744</td>\n",
       "    </tr>\n",
       "  </tbody>\n",
       "</table>\n",
       "<p>495 rows × 8 columns</p>\n",
       "</div>"
      ],
      "text/plain": [
       "                Date    Date_YMD  Daily Confirmed  Total Confirmed  \\\n",
       "0    30 January 2020  2020-01-30                1                1   \n",
       "1    31 January 2020  2020-01-31                0                1   \n",
       "2    1 February 2020  2020-02-01                0                1   \n",
       "3    2 February 2020  2020-02-02                1                2   \n",
       "4    3 February 2020  2020-02-03                1                3   \n",
       "..               ...         ...              ...              ...   \n",
       "490      3 June 2021  2021-06-03           132424         28573286   \n",
       "491      4 June 2021  2021-06-04           120454         28693740   \n",
       "492      5 June 2021  2021-06-05           114488         28808228   \n",
       "493      6 June 2021  2021-06-06           101209         28909437   \n",
       "494      7 June 2021  2021-06-07            85803         28995240   \n",
       "\n",
       "     Daily Recovered  Total Recovered  Daily Deceased  Total Deceased  \n",
       "0                  0                0               0               0  \n",
       "1                  0                0               0               0  \n",
       "2                  0                0               0               0  \n",
       "3                  0                0               0               0  \n",
       "4                  0                0               0               0  \n",
       "..               ...              ...             ...             ...  \n",
       "490           206722         26589528            2717          340140  \n",
       "491           197763         26787291            3372          343512  \n",
       "492           189374         26976665            2682          346194  \n",
       "493           174156         27150821            2444          348638  \n",
       "494           182866         27333687            2106          350744  \n",
       "\n",
       "[495 rows x 8 columns]"
      ]
     },
     "execution_count": 2,
     "metadata": {},
     "output_type": "execute_result"
    }
   ],
   "source": [
    "df = pd.read_csv(\"C:\\\\Users\\\\mesho\\\\OneDrive\\\\Desktop\\\\ML Assignment\\\\case_time_series.csv\")\n",
    "df"
   ]
  },
  {
   "cell_type": "markdown",
   "metadata": {},
   "source": [
    "Let's do get some summary statastics of the dataframe "
   ]
  },
  {
   "cell_type": "code",
   "execution_count": 3,
   "metadata": {},
   "outputs": [
    {
     "data": {
      "text/html": [
       "<div>\n",
       "<style scoped>\n",
       "    .dataframe tbody tr th:only-of-type {\n",
       "        vertical-align: middle;\n",
       "    }\n",
       "\n",
       "    .dataframe tbody tr th {\n",
       "        vertical-align: top;\n",
       "    }\n",
       "\n",
       "    .dataframe thead th {\n",
       "        text-align: right;\n",
       "    }\n",
       "</style>\n",
       "<table border=\"1\" class=\"dataframe\">\n",
       "  <thead>\n",
       "    <tr style=\"text-align: right;\">\n",
       "      <th></th>\n",
       "      <th>Daily Confirmed</th>\n",
       "      <th>Total Confirmed</th>\n",
       "      <th>Daily Recovered</th>\n",
       "      <th>Total Recovered</th>\n",
       "      <th>Daily Deceased</th>\n",
       "      <th>Total Deceased</th>\n",
       "    </tr>\n",
       "  </thead>\n",
       "  <tbody>\n",
       "    <tr>\n",
       "      <th>count</th>\n",
       "      <td>495.000000</td>\n",
       "      <td>4.950000e+02</td>\n",
       "      <td>495.000000</td>\n",
       "      <td>4.950000e+02</td>\n",
       "      <td>495.000000</td>\n",
       "      <td>495.000000</td>\n",
       "    </tr>\n",
       "    <tr>\n",
       "      <th>mean</th>\n",
       "      <td>58576.242424</td>\n",
       "      <td>7.037673e+06</td>\n",
       "      <td>55219.569697</td>\n",
       "      <td>6.341560e+06</td>\n",
       "      <td>708.573737</td>\n",
       "      <td>95647.365657</td>\n",
       "    </tr>\n",
       "    <tr>\n",
       "      <th>std</th>\n",
       "      <td>88204.247844</td>\n",
       "      <td>7.258510e+06</td>\n",
       "      <td>85635.502147</td>\n",
       "      <td>6.567559e+06</td>\n",
       "      <td>1011.352961</td>\n",
       "      <td>85930.141925</td>\n",
       "    </tr>\n",
       "    <tr>\n",
       "      <th>min</th>\n",
       "      <td>0.000000</td>\n",
       "      <td>1.000000e+00</td>\n",
       "      <td>0.000000</td>\n",
       "      <td>0.000000e+00</td>\n",
       "      <td>0.000000</td>\n",
       "      <td>0.000000</td>\n",
       "    </tr>\n",
       "    <tr>\n",
       "      <th>25%</th>\n",
       "      <td>8557.500000</td>\n",
       "      <td>2.027795e+05</td>\n",
       "      <td>4460.500000</td>\n",
       "      <td>9.800950e+04</td>\n",
       "      <td>104.000000</td>\n",
       "      <td>5718.000000</td>\n",
       "    </tr>\n",
       "    <tr>\n",
       "      <th>50%</th>\n",
       "      <td>25561.000000</td>\n",
       "      <td>6.547422e+06</td>\n",
       "      <td>21969.000000</td>\n",
       "      <td>5.506718e+06</td>\n",
       "      <td>378.000000</td>\n",
       "      <td>101226.000000</td>\n",
       "    </tr>\n",
       "    <tr>\n",
       "      <th>75%</th>\n",
       "      <td>65383.000000</td>\n",
       "      <td>1.079726e+07</td>\n",
       "      <td>60438.500000</td>\n",
       "      <td>1.048724e+07</td>\n",
       "      <td>864.500000</td>\n",
       "      <td>154211.000000</td>\n",
       "    </tr>\n",
       "    <tr>\n",
       "      <th>max</th>\n",
       "      <td>414280.000000</td>\n",
       "      <td>2.899524e+07</td>\n",
       "      <td>422391.000000</td>\n",
       "      <td>2.733369e+07</td>\n",
       "      <td>4529.000000</td>\n",
       "      <td>350744.000000</td>\n",
       "    </tr>\n",
       "  </tbody>\n",
       "</table>\n",
       "</div>"
      ],
      "text/plain": [
       "       Daily Confirmed  Total Confirmed  Daily Recovered  Total Recovered  \\\n",
       "count       495.000000     4.950000e+02       495.000000     4.950000e+02   \n",
       "mean      58576.242424     7.037673e+06     55219.569697     6.341560e+06   \n",
       "std       88204.247844     7.258510e+06     85635.502147     6.567559e+06   \n",
       "min           0.000000     1.000000e+00         0.000000     0.000000e+00   \n",
       "25%        8557.500000     2.027795e+05      4460.500000     9.800950e+04   \n",
       "50%       25561.000000     6.547422e+06     21969.000000     5.506718e+06   \n",
       "75%       65383.000000     1.079726e+07     60438.500000     1.048724e+07   \n",
       "max      414280.000000     2.899524e+07    422391.000000     2.733369e+07   \n",
       "\n",
       "       Daily Deceased  Total Deceased  \n",
       "count      495.000000      495.000000  \n",
       "mean       708.573737    95647.365657  \n",
       "std       1011.352961    85930.141925  \n",
       "min          0.000000        0.000000  \n",
       "25%        104.000000     5718.000000  \n",
       "50%        378.000000   101226.000000  \n",
       "75%        864.500000   154211.000000  \n",
       "max       4529.000000   350744.000000  "
      ]
     },
     "execution_count": 3,
     "metadata": {},
     "output_type": "execute_result"
    }
   ],
   "source": [
    "df.describe()"
   ]
  },
  {
   "cell_type": "code",
   "execution_count": 4,
   "metadata": {},
   "outputs": [
    {
     "data": {
      "text/plain": [
       "(495, 8)"
      ]
     },
     "execution_count": 4,
     "metadata": {},
     "output_type": "execute_result"
    }
   ],
   "source": [
    "df.shape"
   ]
  },
  {
   "cell_type": "code",
   "execution_count": 5,
   "metadata": {},
   "outputs": [
    {
     "name": "stdout",
     "output_type": "stream",
     "text": [
      "<class 'pandas.core.frame.DataFrame'>\n",
      "RangeIndex: 495 entries, 0 to 494\n",
      "Data columns (total 8 columns):\n",
      " #   Column           Non-Null Count  Dtype \n",
      "---  ------           --------------  ----- \n",
      " 0   Date             495 non-null    object\n",
      " 1   Date_YMD         495 non-null    object\n",
      " 2   Daily Confirmed  495 non-null    int64 \n",
      " 3   Total Confirmed  495 non-null    int64 \n",
      " 4   Daily Recovered  495 non-null    int64 \n",
      " 5   Total Recovered  495 non-null    int64 \n",
      " 6   Daily Deceased   495 non-null    int64 \n",
      " 7   Total Deceased   495 non-null    int64 \n",
      "dtypes: int64(6), object(2)\n",
      "memory usage: 31.1+ KB\n"
     ]
    }
   ],
   "source": [
    "# Checking how the data is organized and its data types\n",
    "df.info()"
   ]
  },
  {
   "cell_type": "code",
   "execution_count": 6,
   "metadata": {},
   "outputs": [
    {
     "data": {
      "text/plain": [
       "Date               0\n",
       "Date_YMD           0\n",
       "Daily Confirmed    0\n",
       "Total Confirmed    0\n",
       "Daily Recovered    0\n",
       "Total Recovered    0\n",
       "Daily Deceased     0\n",
       "Total Deceased     0\n",
       "dtype: int64"
      ]
     },
     "execution_count": 6,
     "metadata": {},
     "output_type": "execute_result"
    }
   ],
   "source": [
    "# CHecking null values\n",
    "df.isnull().sum()"
   ]
  },
  {
   "cell_type": "code",
   "execution_count": 7,
   "metadata": {},
   "outputs": [
    {
     "data": {
      "text/plain": [
       "<matplotlib.axes._subplots.AxesSubplot at 0x251fff58b20>"
      ]
     },
     "execution_count": 7,
     "metadata": {},
     "output_type": "execute_result"
    },
    {
     "data": {
      "image/png": "[encoded data removed]",
      "text/plain": [
       "<Figure size 720x504 with 2 Axes>"
      ]
     },
     "metadata": {
      "needs_background": "light"
     },
     "output_type": "display_data"
    }
   ],
   "source": [
    "import seaborn as sns\n",
    "corr = df.corr()\n",
    "plt.figure(figsize=(10,7))\n",
    "sns.heatmap(corr)"
   ]
  },
  {
   "cell_type": "code",
   "execution_count": 8,
   "metadata": {},
   "outputs": [
    {
     "data": {
      "text/plain": [
       "Date               object\n",
       "Date_YMD           object\n",
       "Daily Confirmed     int64\n",
       "Total Confirmed     int64\n",
       "Daily Recovered     int64\n",
       "Total Recovered     int64\n",
       "Daily Deceased      int64\n",
       "Total Deceased      int64\n",
       "dtype: object"
      ]
     },
     "execution_count": 8,
     "metadata": {},
     "output_type": "execute_result"
    }
   ],
   "source": [
    "df.dtypes"
   ]
  },
  {
   "cell_type": "markdown",
   "metadata": {},
   "source": [
    "As we can see that the Date_YMD column is an object type so we need to convert into time series from object type"
   ]
  },
  {
   "cell_type": "code",
   "execution_count": 9,
   "metadata": {},
   "outputs": [
    {
     "data": {
      "text/plain": [
       "Date                       object\n",
       "Date_YMD           datetime64[ns]\n",
       "Daily Confirmed             int64\n",
       "Total Confirmed             int64\n",
       "Daily Recovered             int64\n",
       "Total Recovered             int64\n",
       "Daily Deceased              int64\n",
       "Total Deceased              int64\n",
       "dtype: object"
      ]
     },
     "execution_count": 9,
     "metadata": {},
     "output_type": "execute_result"
    }
   ],
   "source": [
    "df[\"Date_YMD\"]=pd.to_datetime(df['Date_YMD'])\n",
    "df.dtypes"
   ]
  },
  {
   "cell_type": "markdown",
   "metadata": {},
   "source": [
    "Successfully converted into time-series data type"
   ]
  },
  {
   "cell_type": "code",
   "execution_count": 10,
   "metadata": {},
   "outputs": [
    {
     "data": {
      "text/html": [
       "<div>\n",
       "<style scoped>\n",
       "    .dataframe tbody tr th:only-of-type {\n",
       "        vertical-align: middle;\n",
       "    }\n",
       "\n",
       "    .dataframe tbody tr th {\n",
       "        vertical-align: top;\n",
       "    }\n",
       "\n",
       "    .dataframe thead th {\n",
       "        text-align: right;\n",
       "    }\n",
       "</style>\n",
       "<table border=\"1\" class=\"dataframe\">\n",
       "  <thead>\n",
       "    <tr style=\"text-align: right;\">\n",
       "      <th></th>\n",
       "      <th>Date_YMD</th>\n",
       "      <th>Daily Confirmed</th>\n",
       "      <th>Total Confirmed</th>\n",
       "      <th>Daily Recovered</th>\n",
       "      <th>Total Recovered</th>\n",
       "      <th>Daily Deceased</th>\n",
       "      <th>Total Deceased</th>\n",
       "    </tr>\n",
       "  </thead>\n",
       "  <tbody>\n",
       "    <tr>\n",
       "      <th>0</th>\n",
       "      <td>2020-01-30</td>\n",
       "      <td>1</td>\n",
       "      <td>1</td>\n",
       "      <td>0</td>\n",
       "      <td>0</td>\n",
       "      <td>0</td>\n",
       "      <td>0</td>\n",
       "    </tr>\n",
       "    <tr>\n",
       "      <th>1</th>\n",
       "      <td>2020-01-31</td>\n",
       "      <td>0</td>\n",
       "      <td>1</td>\n",
       "      <td>0</td>\n",
       "      <td>0</td>\n",
       "      <td>0</td>\n",
       "      <td>0</td>\n",
       "    </tr>\n",
       "    <tr>\n",
       "      <th>2</th>\n",
       "      <td>2020-02-01</td>\n",
       "      <td>0</td>\n",
       "      <td>1</td>\n",
       "      <td>0</td>\n",
       "      <td>0</td>\n",
       "      <td>0</td>\n",
       "      <td>0</td>\n",
       "    </tr>\n",
       "    <tr>\n",
       "      <th>3</th>\n",
       "      <td>2020-02-02</td>\n",
       "      <td>1</td>\n",
       "      <td>2</td>\n",
       "      <td>0</td>\n",
       "      <td>0</td>\n",
       "      <td>0</td>\n",
       "      <td>0</td>\n",
       "    </tr>\n",
       "    <tr>\n",
       "      <th>4</th>\n",
       "      <td>2020-02-03</td>\n",
       "      <td>1</td>\n",
       "      <td>3</td>\n",
       "      <td>0</td>\n",
       "      <td>0</td>\n",
       "      <td>0</td>\n",
       "      <td>0</td>\n",
       "    </tr>\n",
       "    <tr>\n",
       "      <th>...</th>\n",
       "      <td>...</td>\n",
       "      <td>...</td>\n",
       "      <td>...</td>\n",
       "      <td>...</td>\n",
       "      <td>...</td>\n",
       "      <td>...</td>\n",
       "      <td>...</td>\n",
       "    </tr>\n",
       "    <tr>\n",
       "      <th>490</th>\n",
       "      <td>2021-06-03</td>\n",
       "      <td>132424</td>\n",
       "      <td>28573286</td>\n",
       "      <td>206722</td>\n",
       "      <td>26589528</td>\n",
       "      <td>2717</td>\n",
       "      <td>340140</td>\n",
       "    </tr>\n",
       "    <tr>\n",
       "      <th>491</th>\n",
       "      <td>2021-06-04</td>\n",
       "      <td>120454</td>\n",
       "      <td>28693740</td>\n",
       "      <td>197763</td>\n",
       "      <td>26787291</td>\n",
       "      <td>3372</td>\n",
       "      <td>343512</td>\n",
       "    </tr>\n",
       "    <tr>\n",
       "      <th>492</th>\n",
       "      <td>2021-06-05</td>\n",
       "      <td>114488</td>\n",
       "      <td>28808228</td>\n",
       "      <td>189374</td>\n",
       "      <td>26976665</td>\n",
       "      <td>2682</td>\n",
       "      <td>346194</td>\n",
       "    </tr>\n",
       "    <tr>\n",
       "      <th>493</th>\n",
       "      <td>2021-06-06</td>\n",
       "      <td>101209</td>\n",
       "      <td>28909437</td>\n",
       "      <td>174156</td>\n",
       "      <td>27150821</td>\n",
       "      <td>2444</td>\n",
       "      <td>348638</td>\n",
       "    </tr>\n",
       "    <tr>\n",
       "      <th>494</th>\n",
       "      <td>2021-06-07</td>\n",
       "      <td>85803</td>\n",
       "      <td>28995240</td>\n",
       "      <td>182866</td>\n",
       "      <td>27333687</td>\n",
       "      <td>2106</td>\n",
       "      <td>350744</td>\n",
       "    </tr>\n",
       "  </tbody>\n",
       "</table>\n",
       "<p>495 rows × 7 columns</p>\n",
       "</div>"
      ],
      "text/plain": [
       "      Date_YMD  Daily Confirmed  Total Confirmed  Daily Recovered  \\\n",
       "0   2020-01-30                1                1                0   \n",
       "1   2020-01-31                0                1                0   \n",
       "2   2020-02-01                0                1                0   \n",
       "3   2020-02-02                1                2                0   \n",
       "4   2020-02-03                1                3                0   \n",
       "..         ...              ...              ...              ...   \n",
       "490 2021-06-03           132424         28573286           206722   \n",
       "491 2021-06-04           120454         28693740           197763   \n",
       "492 2021-06-05           114488         28808228           189374   \n",
       "493 2021-06-06           101209         28909437           174156   \n",
       "494 2021-06-07            85803         28995240           182866   \n",
       "\n",
       "     Total Recovered  Daily Deceased  Total Deceased  \n",
       "0                  0               0               0  \n",
       "1                  0               0               0  \n",
       "2                  0               0               0  \n",
       "3                  0               0               0  \n",
       "4                  0               0               0  \n",
       "..               ...             ...             ...  \n",
       "490         26589528            2717          340140  \n",
       "491         26787291            3372          343512  \n",
       "492         26976665            2682          346194  \n",
       "493         27150821            2444          348638  \n",
       "494         27333687            2106          350744  \n",
       "\n",
       "[495 rows x 7 columns]"
      ]
     },
     "execution_count": 10,
     "metadata": {},
     "output_type": "execute_result"
    }
   ],
   "source": [
    "df.drop(['Date'], axis=1,inplace=True)\n",
    "df"
   ]
  },
  {
   "cell_type": "code",
   "execution_count": 11,
   "metadata": {},
   "outputs": [
    {
     "name": "stdout",
     "output_type": "stream",
     "text": [
      "          Date  Daily Confirmed  Total Confirmed  Daily Recovered  \\\n",
      "0   2020-01-30                1                1                0   \n",
      "1   2020-01-31                0                1                0   \n",
      "2   2020-02-01                0                1                0   \n",
      "3   2020-02-02                1                2                0   \n",
      "4   2020-02-03                1                3                0   \n",
      "..         ...              ...              ...              ...   \n",
      "490 2021-06-03           132424         28573286           206722   \n",
      "491 2021-06-04           120454         28693740           197763   \n",
      "492 2021-06-05           114488         28808228           189374   \n",
      "493 2021-06-06           101209         28909437           174156   \n",
      "494 2021-06-07            85803         28995240           182866   \n",
      "\n",
      "     Total Recovered  Daily Deceased  Total Deceased  \n",
      "0                  0               0               0  \n",
      "1                  0               0               0  \n",
      "2                  0               0               0  \n",
      "3                  0               0               0  \n",
      "4                  0               0               0  \n",
      "..               ...             ...             ...  \n",
      "490         26589528            2717          340140  \n",
      "491         26787291            3372          343512  \n",
      "492         26976665            2682          346194  \n",
      "493         27150821            2444          348638  \n",
      "494         27333687            2106          350744  \n",
      "\n",
      "[495 rows x 7 columns]\n"
     ]
    }
   ],
   "source": [
    "df.rename({'Date_YMD':'Date'}, axis=1, inplace=True)\n",
    "print(df)"
   ]
  },
  {
   "cell_type": "markdown",
   "metadata": {},
   "source": [
    "## Let's see the Maxium and minimun values of the dataset of diiferent parameters "
   ]
  },
  {
   "cell_type": "code",
   "execution_count": 12,
   "metadata": {},
   "outputs": [
    {
     "name": "stdout",
     "output_type": "stream",
     "text": [
      "2021-06-07 00:00:00 2020-01-30 00:00:00\n"
     ]
    }
   ],
   "source": [
    "print(df['Date'].max(), df['Date'].min())"
   ]
  },
  {
   "cell_type": "code",
   "execution_count": 13,
   "metadata": {},
   "outputs": [
    {
     "name": "stdout",
     "output_type": "stream",
     "text": [
      "414280 0\n"
     ]
    }
   ],
   "source": [
    "print(df['Daily Confirmed'].max(),df['Daily Confirmed'].min())"
   ]
  },
  {
   "cell_type": "code",
   "execution_count": 14,
   "metadata": {},
   "outputs": [
    {
     "name": "stdout",
     "output_type": "stream",
     "text": [
      "28995240 1\n"
     ]
    }
   ],
   "source": [
    "print(df['Total Confirmed'].max(),df['Total Confirmed'].min())"
   ]
  },
  {
   "cell_type": "code",
   "execution_count": 15,
   "metadata": {},
   "outputs": [
    {
     "name": "stdout",
     "output_type": "stream",
     "text": [
      "422391 0\n"
     ]
    }
   ],
   "source": [
    "print(df['Daily Recovered'].max(),df['Daily Recovered'].min())"
   ]
  },
  {
   "cell_type": "code",
   "execution_count": 16,
   "metadata": {},
   "outputs": [
    {
     "name": "stdout",
     "output_type": "stream",
     "text": [
      "27333687 0\n"
     ]
    }
   ],
   "source": [
    "print(df['Total Recovered'].max(),df['Total Recovered'].min())"
   ]
  },
  {
   "cell_type": "code",
   "execution_count": 17,
   "metadata": {},
   "outputs": [
    {
     "name": "stdout",
     "output_type": "stream",
     "text": [
      "4529 0\n"
     ]
    }
   ],
   "source": [
    "print(df['Daily Deceased'].max(),df['Daily Deceased'].min())"
   ]
  },
  {
   "cell_type": "code",
   "execution_count": 18,
   "metadata": {},
   "outputs": [
    {
     "name": "stdout",
     "output_type": "stream",
     "text": [
      "350744 0\n"
     ]
    }
   ],
   "source": [
    "print(df['Total Deceased'].max(),df['Total Deceased'].min())"
   ]
  },
  {
   "cell_type": "markdown",
   "metadata": {},
   "source": [
    "From the above Max-Min Analysis we can see that our dataset is spread across date 2021-06-07 and 2020-01-30. The Maximum Daily confirm cases were 414280, Total Confirmed cases are 28995240, Daily recovered cases are 422391, Total Recovered are 27333687, Daily Deceased or Deaths are 4529 and Total Deceased or Deaths are 350744. "
   ]
  },
  {
   "cell_type": "markdown",
   "metadata": {},
   "source": [
    "## Let's Try to find out average Daily Confiremed, Daily Recovered, Daily Deceased cases & Total Confirmed, Total Recovered and Total Deceased"
   ]
  },
  {
   "cell_type": "code",
   "execution_count": 19,
   "metadata": {},
   "outputs": [
    {
     "name": "stdout",
     "output_type": "stream",
     "text": [
      "58576.242424242424 7037672.9656565655\n"
     ]
    }
   ],
   "source": [
    "df_avg_dconf = df['Daily Confirmed'].mean()\n",
    "df_avg_tconf = df['Total Confirmed'].mean()\n",
    "print(df_avg_dconf,df_avg_tconf)"
   ]
  },
  {
   "cell_type": "code",
   "execution_count": 20,
   "metadata": {},
   "outputs": [
    {
     "name": "stdout",
     "output_type": "stream",
     "text": [
      "55219.569696969695 6341559.901010101\n"
     ]
    }
   ],
   "source": [
    "df_avg_drecov = df['Daily Recovered'].mean()\n",
    "df_avg_trecov = df['Total Recovered'].mean()\n",
    "print(df_avg_drecov,df_avg_trecov)"
   ]
  },
  {
   "cell_type": "code",
   "execution_count": 21,
   "metadata": {},
   "outputs": [
    {
     "name": "stdout",
     "output_type": "stream",
     "text": [
      "708.5737373737373 95647.36565656566\n"
     ]
    }
   ],
   "source": [
    "df_avg_ddece = df['Daily Deceased'].mean()\n",
    "df_avg_tdece = df['Total Deceased'].mean()\n",
    "print(df_avg_ddece,df_avg_tdece)"
   ]
  },
  {
   "cell_type": "markdown",
   "metadata": {},
   "source": [
    "#### Plotting Graphs to see the Variation"
   ]
  },
  {
   "cell_type": "code",
   "execution_count": 22,
   "metadata": {},
   "outputs": [
    {
     "data": {
      "image/png": "[encoded data removed]",
      "text/plain": [
       "<Figure size 720x576 with 2 Axes>"
      ]
     },
     "metadata": {
      "needs_background": "light"
     },
     "output_type": "display_data"
    }
   ],
   "source": [
    "figure, axes = plt.subplots(2,1, figsize = (10,8), sharex=True)\n",
    "axes[0].plot(df['Daily Confirmed'], df['Date'])\n",
    "axes[1].plot(df['Total Confirmed'], df['Date'])\n",
    "axes[0].set_title('Time vs Daily Confirmed Cases')\n",
    "axes[1].set_title('Time vs Total Confirmed Cases')\n",
    "figure.tight_layout()"
   ]
  },
  {
   "cell_type": "markdown",
   "metadata": {},
   "source": [
    "As we can see We're unable to establish any insights from Figure A because the scale is same that of total cases which is quite large, So plotting without sharing X_axis"
   ]
  },
  {
   "cell_type": "code",
   "execution_count": 23,
   "metadata": {},
   "outputs": [
    {
     "data": {
      "image/png": "[encoded data removed]",
      "text/plain": [
       "<Figure size 720x576 with 2 Axes>"
      ]
     },
     "metadata": {
      "needs_background": "light"
     },
     "output_type": "display_data"
    }
   ],
   "source": [
    "figure, axes = plt.subplots(2,1, figsize = (10,8))\n",
    "axes[0].plot(df['Daily Confirmed'], df['Date'])\n",
    "axes[1].plot(df['Total Confirmed'], df['Date'])\n",
    "axes[0].set_title('Time vs Daily Confirmed Cases')\n",
    "axes[1].set_title('Time vs Total Confirmed Cases')\n",
    "figure.tight_layout()"
   ]
  },
  {
   "cell_type": "markdown",
   "metadata": {},
   "source": [
    "Data Pre-processing"
   ]
  },
  {
   "cell_type": "code",
   "execution_count": 24,
   "metadata": {},
   "outputs": [],
   "source": [
    "df1 = df.reset_index()['Total Confirmed']"
   ]
  },
  {
   "cell_type": "code",
   "execution_count": 25,
   "metadata": {},
   "outputs": [
    {
     "data": {
      "text/plain": [
       "(495,)"
      ]
     },
     "execution_count": 25,
     "metadata": {},
     "output_type": "execute_result"
    }
   ],
   "source": [
    "df1.shape"
   ]
  },
  {
   "cell_type": "code",
   "execution_count": 26,
   "metadata": {},
   "outputs": [
    {
     "data": {
      "text/plain": [
       "[<matplotlib.lines.Line2D at 0x25199db54c0>]"
      ]
     },
     "execution_count": 26,
     "metadata": {},
     "output_type": "execute_result"
    },
    {
     "data": {
      "image/png": "[encoded data removed]",
      "text/plain": [
       "<Figure size 432x288 with 1 Axes>"
      ]
     },
     "metadata": {
      "needs_background": "light"
     },
     "output_type": "display_data"
    }
   ],
   "source": [
    "plt.plot(df1)"
   ]
  },
  {
   "cell_type": "code",
   "execution_count": 27,
   "metadata": {},
   "outputs": [],
   "source": [
    "from sklearn.preprocessing import MinMaxScaler\n",
    "scaler = MinMaxScaler(feature_range=(0,1))\n",
    "df1 = scaler.fit_transform(np.array(df1).reshape(-1,1))"
   ]
  },
  {
   "cell_type": "code",
   "execution_count": 28,
   "metadata": {},
   "outputs": [
    {
     "data": {
      "text/plain": [
       "(495, 1)"
      ]
     },
     "execution_count": 28,
     "metadata": {},
     "output_type": "execute_result"
    }
   ],
   "source": [
    "df1.shape"
   ]
  },
  {
   "cell_type": "code",
   "execution_count": 29,
   "metadata": {},
   "outputs": [],
   "source": [
    "training_size=int(len(df1)*0.65)\n",
    "test_size=len(df1)-training_size\n",
    "train_data,test_data=df1[0:training_size,:],df1[training_size:len(df1),:1]"
   ]
  },
  {
   "cell_type": "code",
   "execution_count": 66,
   "metadata": {},
   "outputs": [
    {
     "data": {
      "text/plain": [
       "(321, 174)"
      ]
     },
     "execution_count": 66,
     "metadata": {},
     "output_type": "execute_result"
    }
   ],
   "source": [
    "training_size,test_size"
   ]
  },
  {
   "cell_type": "code",
   "execution_count": 31,
   "metadata": {},
   "outputs": [
    {
     "data": {
      "text/plain": [
       "array([[0.00000000e+00],\n",
       "       [0.00000000e+00],\n",
       "       [0.00000000e+00],\n",
       "       [3.44884207e-08],\n",
       "       [6.89768413e-08],\n",
       "       [6.89768413e-08],\n",
       "       [6.89768413e-08],\n",
       "       [6.89768413e-08],\n",
       "       [6.89768413e-08],\n",
       "       [6.89768413e-08],\n",
       "       [6.89768413e-08],\n",
       "       [6.89768413e-08],\n",
       "       [6.89768413e-08],\n",
       "       [6.89768413e-08],\n",
       "       [6.89768413e-08],\n",
       "       [6.89768413e-08],\n",
       "       [6.89768413e-08],\n",
       "       [6.89768413e-08],\n",
       "       [6.89768413e-08],\n",
       "       [6.89768413e-08],\n",
       "       [6.89768413e-08],\n",
       "       [6.89768413e-08],\n",
       "       [6.89768413e-08],\n",
       "       [6.89768413e-08],\n",
       "       [6.89768413e-08],\n",
       "       [6.89768413e-08],\n",
       "       [6.89768413e-08],\n",
       "       [6.89768413e-08],\n",
       "       [6.89768413e-08],\n",
       "       [6.89768413e-08],\n",
       "       [6.89768413e-08],\n",
       "       [6.89768413e-08],\n",
       "       [1.37953683e-07],\n",
       "       [1.72442103e-07],\n",
       "       [9.31187358e-07],\n",
       "       [1.00016420e-06],\n",
       "       [1.03465262e-06],\n",
       "       [1.13811788e-06],\n",
       "       [1.31055999e-06],\n",
       "       [1.62095577e-06],\n",
       "       [2.13828208e-06],\n",
       "       [2.41418945e-06],\n",
       "       [2.75907365e-06],\n",
       "       [3.10395786e-06],\n",
       "       [3.48333049e-06],\n",
       "       [3.82821469e-06],\n",
       "       [4.31105258e-06],\n",
       "       [5.00082100e-06],\n",
       "       [5.86303151e-06],\n",
       "       [6.79421887e-06],\n",
       "       [8.79454727e-06],\n",
       "       [1.14846441e-05],\n",
       "       [1.38643451e-05],\n",
       "       [1.71062567e-05],\n",
       "       [1.96583998e-05],\n",
       "       [2.26244040e-05],\n",
       "       [2.51420587e-05],\n",
       "       [3.04187870e-05],\n",
       "       [3.51092122e-05],\n",
       "       [3.92478227e-05],\n",
       "       [4.56971574e-05],\n",
       "       [5.63540794e-05],\n",
       "       [7.09771697e-05],\n",
       "       [8.77385422e-05],\n",
       "       [1.07052058e-04],\n",
       "       [1.27020853e-04],\n",
       "       [1.48024302e-04],\n",
       "       [1.64716697e-04],\n",
       "       [1.84478562e-04],\n",
       "       [2.03964520e-04],\n",
       "       [2.32003606e-04],\n",
       "       [2.62043020e-04],\n",
       "       [2.91496131e-04],\n",
       "       [3.17638354e-04],\n",
       "       [3.60507461e-04],\n",
       "       [3.96065023e-04],\n",
       "       [4.26621764e-04],\n",
       "       [4.63213978e-04],\n",
       "       [4.95012302e-04],\n",
       "       [5.42295927e-04],\n",
       "       [5.96787631e-04],\n",
       "       [6.39518784e-04],\n",
       "       [6.92527487e-04],\n",
       "       [7.37086527e-04],\n",
       "       [7.94578724e-04],\n",
       "       [8.43138420e-04],\n",
       "       [9.06424672e-04],\n",
       "       [9.61847564e-04],\n",
       "       [1.01592541e-03],\n",
       "       [1.08152238e-03],\n",
       "       [1.14032514e-03],\n",
       "       [1.20243879e-03],\n",
       "       [1.28507304e-03],\n",
       "       [1.37350135e-03],\n",
       "       [1.47531117e-03],\n",
       "       [1.60140084e-03],\n",
       "       [1.70386593e-03],\n",
       "       [1.82809323e-03],\n",
       "       [1.94342250e-03],\n",
       "       [2.05857934e-03],\n",
       "       [2.16808008e-03],\n",
       "       [2.31675966e-03],\n",
       "       [2.44064207e-03],\n",
       "       [2.56348982e-03],\n",
       "       [2.69199368e-03],\n",
       "       [2.82963696e-03],\n",
       "       [2.96096887e-03],\n",
       "       [3.12630636e-03],\n",
       "       [3.30043839e-03],\n",
       "       [3.46005080e-03],\n",
       "       [3.67229254e-03],\n",
       "       [3.86956631e-03],\n",
       "       [4.07729007e-03],\n",
       "       [4.30270639e-03],\n",
       "       [4.53257171e-03],\n",
       "       [4.77788785e-03],\n",
       "       [4.99909658e-03],\n",
       "       [5.20281968e-03],\n",
       "       [5.45272277e-03],\n",
       "       [5.70290178e-03],\n",
       "       [5.98356854e-03],\n",
       "       [6.27202969e-03],\n",
       "       [6.57514842e-03],\n",
       "       [6.84150250e-03],\n",
       "       [7.14551792e-03],\n",
       "       [7.47967623e-03],\n",
       "       [7.81928371e-03],\n",
       "       [8.14595803e-03],\n",
       "       [8.50491351e-03],\n",
       "       [8.88021651e-03],\n",
       "       [9.17460967e-03],\n",
       "       [9.51883859e-03],\n",
       "       [9.90359141e-03],\n",
       "       [1.02876200e-02],\n",
       "       [1.06775461e-02],\n",
       "       [1.10927522e-02],\n",
       "       [1.14860926e-02],\n",
       "       [1.18320804e-02],\n",
       "       [1.22144191e-02],\n",
       "       [1.26664933e-02],\n",
       "       [1.31434337e-02],\n",
       "       [1.36517930e-02],\n",
       "       [1.42006762e-02],\n",
       "       [1.47232102e-02],\n",
       "       [1.51908732e-02],\n",
       "       [1.57308239e-02],\n",
       "       [1.63125746e-02],\n",
       "       [1.69404363e-02],\n",
       "       [1.75700224e-02],\n",
       "       [1.82646882e-02],\n",
       "       [1.89410061e-02],\n",
       "       [1.95734893e-02],\n",
       "       [2.02031099e-02],\n",
       "       [2.08731854e-02],\n",
       "       [2.16301028e-02],\n",
       "       [2.24136107e-02],\n",
       "       [2.32419536e-02],\n",
       "       [2.40676754e-02],\n",
       "       [2.48436649e-02],\n",
       "       [2.56419683e-02],\n",
       "       [2.65235268e-02],\n",
       "       [2.74129832e-02],\n",
       "       [2.83704507e-02],\n",
       "       [2.93277458e-02],\n",
       "       [3.03315658e-02],\n",
       "       [3.13033805e-02],\n",
       "       [3.23351706e-02],\n",
       "       [3.34597345e-02],\n",
       "       [3.46829698e-02],\n",
       "       [3.58838567e-02],\n",
       "       [3.71741030e-02],\n",
       "       [3.85617446e-02],\n",
       "       [3.98311254e-02],\n",
       "       [4.11820368e-02],\n",
       "       [4.27547433e-02],\n",
       "       [4.44254658e-02],\n",
       "       [4.61115358e-02],\n",
       "       [4.78384400e-02],\n",
       "       [4.95260274e-02],\n",
       "       [5.11291871e-02],\n",
       "       [5.28408819e-02],\n",
       "       [5.46507997e-02],\n",
       "       [5.65465592e-02],\n",
       "       [5.85291606e-02],\n",
       "       [6.04300589e-02],\n",
       "       [6.22466330e-02],\n",
       "       [6.39878844e-02],\n",
       "       [6.57565195e-02],\n",
       "       [6.77094609e-02],\n",
       "       [6.98536060e-02],\n",
       "       [7.19730919e-02],\n",
       "       [7.42202194e-02],\n",
       "       [7.63625366e-02],\n",
       "       [7.81909747e-02],\n",
       "       [8.03034595e-02],\n",
       "       [8.26164599e-02],\n",
       "       [8.48285817e-02],\n",
       "       [8.70913670e-02],\n",
       "       [8.92981431e-02],\n",
       "       [9.13017823e-02],\n",
       "       [9.31744346e-02],\n",
       "       [9.54170097e-02],\n",
       "       [9.78034704e-02],\n",
       "       [1.00166548e-01],\n",
       "       [1.02547249e-01],\n",
       "       [1.04963749e-01],\n",
       "       [1.07093375e-01],\n",
       "       [1.09152196e-01],\n",
       "       [1.11458540e-01],\n",
       "       [1.14079487e-01],\n",
       "       [1.16729129e-01],\n",
       "       [1.19372908e-01],\n",
       "       [1.22079525e-01],\n",
       "       [1.24820009e-01],\n",
       "       [1.27191640e-01],\n",
       "       [1.29887531e-01],\n",
       "       [1.32745241e-01],\n",
       "       [1.35647649e-01],\n",
       "       [1.38652108e-01],\n",
       "       [1.41776759e-01],\n",
       "       [1.44940209e-01],\n",
       "       [1.47527358e-01],\n",
       "       [1.50626315e-01],\n",
       "       [1.53921201e-01],\n",
       "       [1.57258369e-01],\n",
       "       [1.60626336e-01],\n",
       "       [1.63882526e-01],\n",
       "       [1.67097536e-01],\n",
       "       [1.69922586e-01],\n",
       "       [1.73064412e-01],\n",
       "       [1.76439449e-01],\n",
       "       [1.79777480e-01],\n",
       "       [1.82983972e-01],\n",
       "       [1.86176703e-01],\n",
       "       [1.89190819e-01],\n",
       "       [1.91759964e-01],\n",
       "       [1.94634988e-01],\n",
       "       [1.97625238e-01],\n",
       "       [2.00588517e-01],\n",
       "       [2.03544761e-01],\n",
       "       [2.06605919e-01],\n",
       "       [2.09460526e-01],\n",
       "       [2.11863299e-01],\n",
       "       [2.14639617e-01],\n",
       "       [2.17631419e-01],\n",
       "       [2.20452020e-01],\n",
       "       [2.23207058e-01],\n",
       "       [2.25810210e-01],\n",
       "       [2.28388909e-01],\n",
       "       [2.30462698e-01],\n",
       "       [2.32941346e-01],\n",
       "       [2.35659344e-01],\n",
       "       [2.38101021e-01],\n",
       "       [2.40629194e-01],\n",
       "       [2.43195754e-01],\n",
       "       [2.45533689e-01],\n",
       "       [2.47405100e-01],\n",
       "       [2.49602599e-01],\n",
       "       [2.51941293e-01],\n",
       "       [2.54129273e-01],\n",
       "       [2.56278039e-01],\n",
       "       [2.58412631e-01],\n",
       "       [2.60361882e-01],\n",
       "       [2.61931312e-01],\n",
       "       [2.63805689e-01],\n",
       "       [2.65746145e-01],\n",
       "       [2.67621315e-01],\n",
       "       [2.69481310e-01],\n",
       "       [2.71218354e-01],\n",
       "       [2.72802131e-01],\n",
       "       [2.74044370e-01],\n",
       "       [2.75528614e-01],\n",
       "       [2.77259518e-01],\n",
       "       [2.78941346e-01],\n",
       "       [2.80600826e-01],\n",
       "       [2.82229645e-01],\n",
       "       [2.83813629e-01],\n",
       "       [2.85110118e-01],\n",
       "       [2.86697516e-01],\n",
       "       [2.88437974e-01],\n",
       "       [2.90080589e-01],\n",
       "       [2.91805596e-01],\n",
       "       [2.93397340e-01],\n",
       "       [2.95008191e-01],\n",
       "       [2.96288367e-01],\n",
       "       [2.97830827e-01],\n",
       "       [2.99496100e-01],\n",
       "       [3.01033766e-01],\n",
       "       [3.02572640e-01],\n",
       "       [3.04010531e-01],\n",
       "       [3.05068670e-01],\n",
       "       [3.06055349e-01],\n",
       "       [3.07384809e-01],\n",
       "       [3.08949411e-01],\n",
       "       [3.10542258e-01],\n",
       "       [3.12138486e-01],\n",
       "       [3.13700846e-01],\n",
       "       [3.15232270e-01],\n",
       "       [3.16523551e-01],\n",
       "       [3.18049491e-01],\n",
       "       [3.19591089e-01],\n",
       "       [3.21080092e-01],\n",
       "       [3.22506291e-01],\n",
       "       [3.23948425e-01],\n",
       "       [3.25294715e-01],\n",
       "       [3.26370029e-01],\n",
       "       [3.27627960e-01],\n",
       "       [3.28852506e-01],\n",
       "       [3.30113885e-01],\n",
       "       [3.31379990e-01],\n",
       "       [3.32621918e-01],\n",
       "       [3.33766175e-01],\n",
       "       [3.34670702e-01],\n",
       "       [3.35777194e-01],\n",
       "       [3.36868304e-01],\n",
       "       [3.37882643e-01],\n",
       "       [3.38915951e-01],\n",
       "       [3.39962813e-01],\n",
       "       [3.40905588e-01],\n",
       "       [3.41662298e-01],\n",
       "       [3.42567654e-01]])"
      ]
     },
     "execution_count": 31,
     "metadata": {},
     "output_type": "execute_result"
    }
   ],
   "source": [
    "train_data"
   ]
  },
  {
   "cell_type": "code",
   "execution_count": 67,
   "metadata": {},
   "outputs": [
    {
     "data": {
      "text/plain": [
       "()"
      ]
     },
     "execution_count": 67,
     "metadata": {},
     "output_type": "execute_result"
    }
   ],
   "source": [
    "np.shape(test_size)"
   ]
  },
  {
   "cell_type": "code",
   "execution_count": 33,
   "metadata": {},
   "outputs": [],
   "source": [
    "import numpy\n",
    "# convert an array of values into a dataset matrix\n",
    "def create_dataset(dataset, time_step=1):\n",
    "\tdataX, dataY = [], []\n",
    "\tfor i in range(len(dataset)-time_step-1):\n",
    "\t\ta = dataset[i:(i+time_step), 0]  \n",
    "\t\tdataX.append(a)\n",
    "\t\tdataY.append(dataset[i + time_step, 0])\n",
    "\treturn numpy.array(dataX), numpy.array(dataY)"
   ]
  },
  {
   "cell_type": "code",
   "execution_count": 34,
   "metadata": {},
   "outputs": [],
   "source": [
    "time_step = 100\n",
    "X_train, y_train = create_dataset(train_data, time_step)\n",
    "X_test, ytest = create_dataset(test_data, time_step)"
   ]
  },
  {
   "cell_type": "code",
   "execution_count": 35,
   "metadata": {},
   "outputs": [
    {
     "name": "stdout",
     "output_type": "stream",
     "text": [
      "(220, 100)\n",
      "(220,)\n"
     ]
    },
    {
     "data": {
      "text/plain": [
       "(None, None)"
      ]
     },
     "execution_count": 35,
     "metadata": {},
     "output_type": "execute_result"
    }
   ],
   "source": [
    "print(X_train.shape), print(y_train.shape)"
   ]
  },
  {
   "cell_type": "code",
   "execution_count": 36,
   "metadata": {},
   "outputs": [],
   "source": [
    "# reshape input to be [samples, time steps, features] which is required for LSTM\n",
    "X_train =X_train.reshape(X_train.shape[0],X_train.shape[1] , 1)\n",
    "X_test = X_test.reshape(X_test.shape[0],X_test.shape[1] , 1)"
   ]
  },
  {
   "cell_type": "markdown",
   "metadata": {},
   "source": [
    "## Model Training"
   ]
  },
  {
   "cell_type": "code",
   "execution_count": 37,
   "metadata": {},
   "outputs": [],
   "source": [
    "from tensorflow.keras.models import Sequential\n",
    "from tensorflow.keras.layers import Dense\n",
    "from tensorflow.keras.layers import LSTM"
   ]
  },
  {
   "cell_type": "code",
   "execution_count": 38,
   "metadata": {},
   "outputs": [],
   "source": [
    "model=Sequential()\n",
    "model.add(LSTM(50,return_sequences=True,input_shape=(100,1)))\n",
    "model.add(LSTM(50,return_sequences=True))\n",
    "model.add(LSTM(50))\n",
    "model.add(Dense(1))\n",
    "model.compile(loss='mean_squared_error',optimizer='adam')"
   ]
  },
  {
   "cell_type": "code",
   "execution_count": 39,
   "metadata": {},
   "outputs": [
    {
     "name": "stdout",
     "output_type": "stream",
     "text": [
      "Model: \"sequential\"\n",
      "_________________________________________________________________\n",
      "Layer (type)                 Output Shape              Param #   \n",
      "=================================================================\n",
      "lstm (LSTM)                  (None, 100, 50)           10400     \n",
      "_________________________________________________________________\n",
      "lstm_1 (LSTM)                (None, 100, 50)           20200     \n",
      "_________________________________________________________________\n",
      "lstm_2 (LSTM)                (None, 50)                20200     \n",
      "_________________________________________________________________\n",
      "dense (Dense)                (None, 1)                 51        \n",
      "=================================================================\n",
      "Total params: 50,851\n",
      "Trainable params: 50,851\n",
      "Non-trainable params: 0\n",
      "_________________________________________________________________\n"
     ]
    }
   ],
   "source": [
    "model.summary()"
   ]
  },
  {
   "cell_type": "code",
   "execution_count": 40,
   "metadata": {},
   "outputs": [
    {
     "name": "stdout",
     "output_type": "stream",
     "text": [
      "Epoch 1/100\n",
      "4/4 [==============================] - 10s 1s/step - loss: 0.0353 - val_loss: 0.1915\n",
      "Epoch 2/100\n",
      "4/4 [==============================] - 1s 134ms/step - loss: 0.0073 - val_loss: 0.0248\n",
      "Epoch 3/100\n",
      "4/4 [==============================] - 1s 134ms/step - loss: 0.0048 - val_loss: 0.0707\n",
      "Epoch 4/100\n",
      "4/4 [==============================] - 1s 132ms/step - loss: 0.0025 - val_loss: 0.0338\n",
      "Epoch 5/100\n",
      "4/4 [==============================] - 1s 133ms/step - loss: 8.7453e-04 - val_loss: 0.0050\n",
      "Epoch 6/100\n",
      "4/4 [==============================] - 1s 142ms/step - loss: 0.0010 - val_loss: 0.0025\n",
      "Epoch 7/100\n",
      "4/4 [==============================] - 1s 128ms/step - loss: 4.6075e-04 - val_loss: 0.0140\n",
      "Epoch 8/100\n",
      "4/4 [==============================] - 1s 134ms/step - loss: 3.8123e-04 - val_loss: 0.0069\n",
      "Epoch 9/100\n",
      "4/4 [==============================] - 1s 129ms/step - loss: 2.6863e-04 - val_loss: 0.0077\n",
      "Epoch 10/100\n",
      "4/4 [==============================] - 1s 131ms/step - loss: 2.4838e-04 - val_loss: 0.0180\n",
      "Epoch 11/100\n",
      "4/4 [==============================] - 1s 129ms/step - loss: 2.1884e-04 - val_loss: 0.0152\n",
      "Epoch 12/100\n",
      "4/4 [==============================] - 1s 144ms/step - loss: 1.4976e-04 - val_loss: 0.0076\n",
      "Epoch 13/100\n",
      "4/4 [==============================] - 1s 142ms/step - loss: 1.5667e-04 - val_loss: 0.0104\n",
      "Epoch 14/100\n",
      "4/4 [==============================] - 1s 130ms/step - loss: 1.1077e-04 - val_loss: 0.0155\n",
      "Epoch 15/100\n",
      "4/4 [==============================] - 1s 146ms/step - loss: 1.0836e-04 - val_loss: 0.0141\n",
      "Epoch 16/100\n",
      "4/4 [==============================] - 1s 146ms/step - loss: 9.9958e-05 - val_loss: 0.0158\n",
      "Epoch 17/100\n",
      "4/4 [==============================] - 1s 131ms/step - loss: 8.9302e-05 - val_loss: 0.0198\n",
      "Epoch 18/100\n",
      "4/4 [==============================] - 1s 155ms/step - loss: 8.6994e-05 - val_loss: 0.0186\n",
      "Epoch 19/100\n",
      "4/4 [==============================] - 1s 128ms/step - loss: 7.6538e-05 - val_loss: 0.0184\n",
      "Epoch 20/100\n",
      "4/4 [==============================] - 1s 137ms/step - loss: 6.7320e-05 - val_loss: 0.0207\n",
      "Epoch 21/100\n",
      "4/4 [==============================] - 1s 145ms/step - loss: 6.6067e-05 - val_loss: 0.0217\n",
      "Epoch 22/100\n",
      "4/4 [==============================] - 1s 144ms/step - loss: 5.9473e-05 - val_loss: 0.0232\n",
      "Epoch 23/100\n",
      "4/4 [==============================] - 1s 158ms/step - loss: 5.7337e-05 - val_loss: 0.0247\n",
      "Epoch 24/100\n",
      "4/4 [==============================] - 1s 139ms/step - loss: 5.1134e-05 - val_loss: 0.0255\n",
      "Epoch 25/100\n",
      "4/4 [==============================] - 1s 143ms/step - loss: 4.9113e-05 - val_loss: 0.0265\n",
      "Epoch 26/100\n",
      "4/4 [==============================] - 1s 131ms/step - loss: 4.4216e-05 - val_loss: 0.0283\n",
      "Epoch 27/100\n",
      "4/4 [==============================] - 1s 132ms/step - loss: 3.9643e-05 - val_loss: 0.0284\n",
      "Epoch 28/100\n",
      "4/4 [==============================] - 1s 137ms/step - loss: 3.9995e-05 - val_loss: 0.0303\n",
      "Epoch 29/100\n",
      "4/4 [==============================] - 1s 139ms/step - loss: 3.6003e-05 - val_loss: 0.0320\n",
      "Epoch 30/100\n",
      "4/4 [==============================] - 1s 141ms/step - loss: 3.2877e-05 - val_loss: 0.0323\n",
      "Epoch 31/100\n",
      "4/4 [==============================] - 1s 147ms/step - loss: 3.0662e-05 - val_loss: 0.0339\n",
      "Epoch 32/100\n",
      "4/4 [==============================] - 1s 152ms/step - loss: 2.8340e-05 - val_loss: 0.0359\n",
      "Epoch 33/100\n",
      "4/4 [==============================] - 1s 131ms/step - loss: 2.5515e-05 - val_loss: 0.0367\n",
      "Epoch 34/100\n",
      "4/4 [==============================] - 1s 129ms/step - loss: 2.3764e-05 - val_loss: 0.0375\n",
      "Epoch 35/100\n",
      "4/4 [==============================] - 1s 131ms/step - loss: 2.1560e-05 - val_loss: 0.0391\n",
      "Epoch 36/100\n",
      "4/4 [==============================] - 1s 135ms/step - loss: 1.8758e-05 - val_loss: 0.0398\n",
      "Epoch 37/100\n",
      "4/4 [==============================] - 1s 138ms/step - loss: 1.7465e-05 - val_loss: 0.0414\n",
      "Epoch 38/100\n",
      "4/4 [==============================] - 1s 152ms/step - loss: 1.7038e-05 - val_loss: 0.0422\n",
      "Epoch 39/100\n",
      "4/4 [==============================] - 1s 149ms/step - loss: 1.5893e-05 - val_loss: 0.0436\n",
      "Epoch 40/100\n",
      "4/4 [==============================] - 1s 134ms/step - loss: 1.3342e-05 - val_loss: 0.0449\n",
      "Epoch 41/100\n",
      "4/4 [==============================] - 1s 132ms/step - loss: 1.2501e-05 - val_loss: 0.0455\n",
      "Epoch 42/100\n",
      "4/4 [==============================] - 1s 134ms/step - loss: 1.1507e-05 - val_loss: 0.0469\n",
      "Epoch 43/100\n",
      "4/4 [==============================] - 1s 148ms/step - loss: 1.0452e-05 - val_loss: 0.0475\n",
      "Epoch 44/100\n",
      "4/4 [==============================] - 1s 130ms/step - loss: 8.9656e-06 - val_loss: 0.0493\n",
      "Epoch 45/100\n",
      "4/4 [==============================] - 1s 133ms/step - loss: 8.3663e-06 - val_loss: 0.0493\n",
      "Epoch 46/100\n",
      "4/4 [==============================] - 1s 143ms/step - loss: 8.4683e-06 - val_loss: 0.0504\n",
      "Epoch 47/100\n",
      "4/4 [==============================] - 1s 150ms/step - loss: 7.5237e-06 - val_loss: 0.0514\n",
      "Epoch 48/100\n",
      "4/4 [==============================] - 1s 153ms/step - loss: 6.8502e-06 - val_loss: 0.0521\n",
      "Epoch 49/100\n",
      "4/4 [==============================] - 1s 149ms/step - loss: 6.4574e-06 - val_loss: 0.0530\n",
      "Epoch 50/100\n",
      "4/4 [==============================] - 1s 154ms/step - loss: 6.6077e-06 - val_loss: 0.0535\n",
      "Epoch 51/100\n",
      "4/4 [==============================] - 1s 149ms/step - loss: 5.8381e-06 - val_loss: 0.0538\n",
      "Epoch 52/100\n",
      "4/4 [==============================] - 1s 149ms/step - loss: 5.9300e-06 - val_loss: 0.0548\n",
      "Epoch 53/100\n",
      "4/4 [==============================] - 1s 154ms/step - loss: 5.7111e-06 - val_loss: 0.0550\n",
      "Epoch 54/100\n",
      "4/4 [==============================] - 1s 153ms/step - loss: 5.4965e-06 - val_loss: 0.0561\n",
      "Epoch 55/100\n",
      "4/4 [==============================] - 1s 153ms/step - loss: 5.1662e-06 - val_loss: 0.0559\n",
      "Epoch 56/100\n",
      "4/4 [==============================] - 1s 151ms/step - loss: 5.2842e-06 - val_loss: 0.0560\n",
      "Epoch 57/100\n",
      "4/4 [==============================] - 1s 160ms/step - loss: 5.1499e-06 - val_loss: 0.0570\n",
      "Epoch 58/100\n",
      "4/4 [==============================] - 1s 168ms/step - loss: 5.0224e-06 - val_loss: 0.0572\n",
      "Epoch 59/100\n",
      "4/4 [==============================] - 1s 160ms/step - loss: 4.8628e-06 - val_loss: 0.0575\n",
      "Epoch 60/100\n",
      "4/4 [==============================] - 1s 158ms/step - loss: 5.0279e-06 - val_loss: 0.0577\n",
      "Epoch 61/100\n",
      "4/4 [==============================] - 1s 153ms/step - loss: 4.8233e-06 - val_loss: 0.0578\n",
      "Epoch 62/100\n",
      "4/4 [==============================] - 1s 152ms/step - loss: 4.7824e-06 - val_loss: 0.0579\n",
      "Epoch 63/100\n",
      "4/4 [==============================] - 1s 156ms/step - loss: 4.4486e-06 - val_loss: 0.0584\n",
      "Epoch 64/100\n",
      "4/4 [==============================] - 1s 151ms/step - loss: 4.8650e-06 - val_loss: 0.0582\n",
      "Epoch 65/100\n",
      "4/4 [==============================] - 1s 153ms/step - loss: 4.6548e-06 - val_loss: 0.0583\n",
      "Epoch 66/100\n",
      "4/4 [==============================] - 1s 154ms/step - loss: 5.0294e-06 - val_loss: 0.0582\n",
      "Epoch 67/100\n",
      "4/4 [==============================] - 1s 153ms/step - loss: 4.8249e-06 - val_loss: 0.0580\n",
      "Epoch 68/100\n",
      "4/4 [==============================] - 1s 153ms/step - loss: 4.7070e-06 - val_loss: 0.0588\n",
      "Epoch 69/100\n",
      "4/4 [==============================] - 1s 151ms/step - loss: 4.6391e-06 - val_loss: 0.0582\n",
      "Epoch 70/100\n",
      "4/4 [==============================] - 1s 153ms/step - loss: 5.5325e-06 - val_loss: 0.0583\n",
      "Epoch 71/100\n",
      "4/4 [==============================] - 1s 150ms/step - loss: 5.1167e-06 - val_loss: 0.0588\n",
      "Epoch 72/100\n",
      "4/4 [==============================] - 1s 150ms/step - loss: 4.8688e-06 - val_loss: 0.0583\n",
      "Epoch 73/100\n",
      "4/4 [==============================] - 1s 155ms/step - loss: 4.8457e-06 - val_loss: 0.0591\n",
      "Epoch 74/100\n",
      "4/4 [==============================] - 1s 179ms/step - loss: 4.9116e-06 - val_loss: 0.0577\n",
      "Epoch 75/100\n",
      "4/4 [==============================] - 1s 202ms/step - loss: 5.2720e-06 - val_loss: 0.0586\n",
      "Epoch 76/100\n",
      "4/4 [==============================] - 1s 168ms/step - loss: 4.7340e-06 - val_loss: 0.0584\n",
      "Epoch 77/100\n",
      "4/4 [==============================] - 1s 163ms/step - loss: 4.6475e-06 - val_loss: 0.0587\n",
      "Epoch 78/100\n",
      "4/4 [==============================] - 1s 171ms/step - loss: 4.3576e-06 - val_loss: 0.0580\n",
      "Epoch 79/100\n",
      "4/4 [==============================] - 1s 171ms/step - loss: 4.9847e-06 - val_loss: 0.0586\n",
      "Epoch 80/100\n"
     ]
    },
    {
     "name": "stdout",
     "output_type": "stream",
     "text": [
      "4/4 [==============================] - 1s 165ms/step - loss: 4.6530e-06 - val_loss: 0.0587\n",
      "Epoch 81/100\n",
      "4/4 [==============================] - 1s 170ms/step - loss: 4.6685e-06 - val_loss: 0.0582\n",
      "Epoch 82/100\n",
      "4/4 [==============================] - 1s 157ms/step - loss: 4.5097e-06 - val_loss: 0.0581\n",
      "Epoch 83/100\n",
      "4/4 [==============================] - 1s 159ms/step - loss: 4.4231e-06 - val_loss: 0.0587\n",
      "Epoch 84/100\n",
      "4/4 [==============================] - 1s 159ms/step - loss: 5.0615e-06 - val_loss: 0.0585\n",
      "Epoch 85/100\n",
      "4/4 [==============================] - 1s 159ms/step - loss: 4.8999e-06 - val_loss: 0.0583\n",
      "Epoch 86/100\n",
      "4/4 [==============================] - 1s 159ms/step - loss: 4.5907e-06 - val_loss: 0.0584\n",
      "Epoch 87/100\n",
      "4/4 [==============================] - 1s 158ms/step - loss: 4.5324e-06 - val_loss: 0.0581\n",
      "Epoch 88/100\n",
      "4/4 [==============================] - 1s 162ms/step - loss: 4.7011e-06 - val_loss: 0.0580\n",
      "Epoch 89/100\n",
      "4/4 [==============================] - 1s 163ms/step - loss: 4.5869e-06 - val_loss: 0.0581\n",
      "Epoch 90/100\n",
      "4/4 [==============================] - 1s 157ms/step - loss: 4.5670e-06 - val_loss: 0.0580\n",
      "Epoch 91/100\n",
      "4/4 [==============================] - 1s 161ms/step - loss: 4.7587e-06 - val_loss: 0.0579\n",
      "Epoch 92/100\n",
      "4/4 [==============================] - 1s 159ms/step - loss: 4.6771e-06 - val_loss: 0.0580\n",
      "Epoch 93/100\n",
      "4/4 [==============================] - 1s 159ms/step - loss: 4.4937e-06 - val_loss: 0.0581\n",
      "Epoch 94/100\n",
      "4/4 [==============================] - 1s 168ms/step - loss: 4.4462e-06 - val_loss: 0.0578\n",
      "Epoch 95/100\n",
      "4/4 [==============================] - 1s 159ms/step - loss: 4.3390e-06 - val_loss: 0.0575\n",
      "Epoch 96/100\n",
      "4/4 [==============================] - 1s 163ms/step - loss: 4.3386e-06 - val_loss: 0.0579\n",
      "Epoch 97/100\n",
      "4/4 [==============================] - 1s 158ms/step - loss: 4.8490e-06 - val_loss: 0.0573\n",
      "Epoch 98/100\n",
      "4/4 [==============================] - 1s 160ms/step - loss: 4.6032e-06 - val_loss: 0.0575\n",
      "Epoch 99/100\n",
      "4/4 [==============================] - 1s 162ms/step - loss: 4.4977e-06 - val_loss: 0.0577\n",
      "Epoch 100/100\n",
      "4/4 [==============================] - 1s 159ms/step - loss: 4.5675e-06 - val_loss: 0.0574\n"
     ]
    },
    {
     "data": {
      "text/plain": [
       "<tensorflow.python.keras.callbacks.History at 0x251a20f0d60>"
      ]
     },
     "execution_count": 40,
     "metadata": {},
     "output_type": "execute_result"
    }
   ],
   "source": [
    "model.fit(X_train,y_train,validation_data=(X_test,ytest),epochs=100,batch_size=64,verbose=1)"
   ]
  },
  {
   "cell_type": "code",
   "execution_count": 41,
   "metadata": {},
   "outputs": [],
   "source": [
    "import tensorflow as tf"
   ]
  },
  {
   "cell_type": "code",
   "execution_count": 42,
   "metadata": {},
   "outputs": [
    {
     "data": {
      "text/plain": [
       "'2.4.1'"
      ]
     },
     "execution_count": 42,
     "metadata": {},
     "output_type": "execute_result"
    }
   ],
   "source": [
    "tf.__version__"
   ]
  },
  {
   "cell_type": "code",
   "execution_count": 43,
   "metadata": {},
   "outputs": [],
   "source": [
    "train_predict=model.predict(X_train)\n",
    "test_predict=model.predict(X_test)"
   ]
  },
  {
   "cell_type": "code",
   "execution_count": 44,
   "metadata": {},
   "outputs": [],
   "source": [
    "train_predict=scaler.inverse_transform(train_predict)\n",
    "test_predict=scaler.inverse_transform(test_predict)"
   ]
  },
  {
   "cell_type": "code",
   "execution_count": 45,
   "metadata": {},
   "outputs": [
    {
     "data": {
      "text/plain": [
       "5406399.787503183"
      ]
     },
     "execution_count": 45,
     "metadata": {},
     "output_type": "execute_result"
    }
   ],
   "source": [
    "import math\n",
    "from sklearn.metrics import mean_squared_error\n",
    "math.sqrt(mean_squared_error(y_train,train_predict))"
   ]
  },
  {
   "cell_type": "code",
   "execution_count": 46,
   "metadata": {},
   "outputs": [
    {
     "data": {
      "text/plain": [
       "14169227.386751331"
      ]
     },
     "execution_count": 46,
     "metadata": {},
     "output_type": "execute_result"
    }
   ],
   "source": [
    "math.sqrt(mean_squared_error(ytest,test_predict))"
   ]
  },
  {
   "cell_type": "code",
   "execution_count": 47,
   "metadata": {},
   "outputs": [
    {
     "data": {
      "image/png": "[encoded data removed]",
      "text/plain": [
       "<Figure size 432x288 with 1 Axes>"
      ]
     },
     "metadata": {
      "needs_background": "light"
     },
     "output_type": "display_data"
    }
   ],
   "source": [
    "### Plotting \n",
    "# shift train predictions for plotting\n",
    "look_back=100\n",
    "trainPredictPlot = numpy.empty_like(df1)\n",
    "trainPredictPlot[:, :] = np.nan\n",
    "trainPredictPlot[look_back:len(train_predict)+look_back, :] = train_predict\n",
    "# shift test predictions for plotting\n",
    "testPredictPlot = numpy.empty_like(df1)\n",
    "testPredictPlot[:, :] = numpy.nan\n",
    "testPredictPlot[len(train_predict)+(look_back*2)+1:len(df1)-1, :] = test_predict\n",
    "# plot baseline and predictions\n",
    "plt.plot(scaler.inverse_transform(df1))\n",
    "plt.plot(trainPredictPlot)\n",
    "plt.plot(testPredictPlot)\n",
    "plt.show()"
   ]
  },
  {
   "cell_type": "code",
   "execution_count": 48,
   "metadata": {},
   "outputs": [
    {
     "data": {
      "text/plain": [
       "174"
      ]
     },
     "execution_count": 48,
     "metadata": {},
     "output_type": "execute_result"
    }
   ],
   "source": [
    "len(test_data)"
   ]
  },
  {
   "cell_type": "code",
   "execution_count": 49,
   "metadata": {},
   "outputs": [
    {
     "data": {
      "text/plain": [
       "(1, 74)"
      ]
     },
     "execution_count": 49,
     "metadata": {},
     "output_type": "execute_result"
    }
   ],
   "source": [
    "x_input=test_data[100:].reshape(1,-1)\n",
    "x_input.shape"
   ]
  },
  {
   "cell_type": "code",
   "execution_count": 50,
   "metadata": {},
   "outputs": [],
   "source": [
    "temp_input=list(x_input)\n",
    "temp_input=temp_input[0].tolist()"
   ]
  },
  {
   "cell_type": "code",
   "execution_count": 51,
   "metadata": {},
   "outputs": [
    {
     "data": {
      "text/plain": [
       "[0.41069821842130705,\n",
       " 0.4128582971845826,\n",
       " 0.4152106144046614,\n",
       " 0.4171472082020086,\n",
       " 0.4189832682531087,\n",
       " 0.42147033173273724,\n",
       " 0.42427762019826776,\n",
       " 0.4273478828713914,\n",
       " 0.43055509906298756,\n",
       " 0.43413479019779766,\n",
       " 0.43746509556275776,\n",
       " 0.4414420243268214,\n",
       " 0.4457970841350885,\n",
       " 0.45034534807593757,\n",
       " 0.45534427220965484,\n",
       " 0.46060599810886194,\n",
       " 0.46646606361823745,\n",
       " 0.4720131122216306,\n",
       " 0.4784037131061413,\n",
       " 0.48528705005673517,\n",
       " 0.49276510533332735,\n",
       " 0.500835464746471,\n",
       " 0.509833321256638,\n",
       " 0.5193198097108287,\n",
       " 0.5281834372877561,\n",
       " 0.5383356212376798,\n",
       " 0.549225409040429,\n",
       " 0.560693878053566,\n",
       " 0.5726025917565294,\n",
       " 0.5846389126159643,\n",
       " 0.5968705069132212,\n",
       " 0.6078885571524346,\n",
       " 0.6204048533623054,\n",
       " 0.6334898981174116,\n",
       " 0.64682908804442,\n",
       " 0.6606939159908287,\n",
       " 0.6742332422229732,\n",
       " 0.686997061827978,\n",
       " 0.699266972760597,\n",
       " 0.712470761148063,\n",
       " 0.7267015112377587,\n",
       " 0.7409893741520807,\n",
       " 0.7550227470102937,\n",
       " 0.7689494471833808,\n",
       " 0.7815879013792575,\n",
       " 0.7929515255935639,\n",
       " 0.8049726370594842,\n",
       " 0.8174792420231474,\n",
       " 0.8293089427543605,\n",
       " 0.840560996927806,\n",
       " 0.8512785150693188,\n",
       " 0.8609986280851143,\n",
       " 0.8700698069776214,\n",
       " 0.8792866994474507,\n",
       " 0.8888119528864722,\n",
       " 0.8977528000372751,\n",
       " 0.9066266361867202,\n",
       " 0.9149347932603694,\n",
       " 0.9226199859914933,\n",
       " 0.9293747845982577,\n",
       " 0.9365825886104957,\n",
       " 0.9438772344659756,\n",
       " 0.950294667341766,\n",
       " 0.9562985150769063,\n",
       " 0.9619988302217478,\n",
       " 0.96728921599853,\n",
       " 0.9716652102781426,\n",
       " 0.9762574124669227,\n",
       " 0.9808803783269384,\n",
       " 0.9854474729454722,\n",
       " 0.9896017411686105,\n",
       " 0.9935502514740437,\n",
       " 0.9970407900414272,\n",
       " 1.0000000000000002]"
      ]
     },
     "execution_count": 51,
     "metadata": {},
     "output_type": "execute_result"
    }
   ],
   "source": [
    "temp_input"
   ]
  },
  {
   "cell_type": "code",
   "execution_count": 54,
   "metadata": {},
   "outputs": [
    {
     "name": "stdout",
     "output_type": "stream",
     "text": [
      "WARNING:tensorflow:Model was constructed with shape (None, 100, 1) for input KerasTensor(type_spec=TensorSpec(shape=(None, 100, 1), dtype=tf.float32, name='lstm_input'), name='lstm_input', description=\"created by layer 'lstm_input'\"), but it was called on an input with incompatible shape (None, 74, 1).\n",
      "[0.6141546]\n",
      "75\n",
      "1 day input [0.4128583  0.41521061 0.41714721 0.41898327 0.42147033 0.42427762\n",
      " 0.42734788 0.4305551  0.43413479 0.4374651  0.44144202 0.44579708\n",
      " 0.45034535 0.45534427 0.460606   0.46646606 0.47201311 0.47840371\n",
      " 0.48528705 0.49276511 0.50083546 0.50983332 0.51931981 0.52818344\n",
      " 0.53833562 0.54922541 0.56069388 0.57260259 0.58463891 0.59687051\n",
      " 0.60788856 0.62040485 0.6334899  0.64682909 0.66069392 0.67423324\n",
      " 0.68699706 0.69926697 0.71247076 0.72670151 0.74098937 0.75502275\n",
      " 0.76894945 0.7815879  0.79295153 0.80497264 0.81747924 0.82930894\n",
      " 0.840561   0.85127852 0.86099863 0.87006981 0.8792867  0.88881195\n",
      " 0.8977528  0.90662664 0.91493479 0.92261999 0.92937478 0.93658259\n",
      " 0.94387723 0.95029467 0.95629852 0.96199883 0.96728922 0.97166521\n",
      " 0.97625741 0.98088038 0.98544747 0.98960174 0.99355025 0.99704079\n",
      " 1.         0.61415458]\n",
      "1 day output [[0.61416245]]\n",
      "2 day input [0.41521061 0.41714721 0.41898327 0.42147033 0.42427762 0.42734788\n",
      " 0.4305551  0.43413479 0.4374651  0.44144202 0.44579708 0.45034535\n",
      " 0.45534427 0.460606   0.46646606 0.47201311 0.47840371 0.48528705\n",
      " 0.49276511 0.50083546 0.50983332 0.51931981 0.52818344 0.53833562\n",
      " 0.54922541 0.56069388 0.57260259 0.58463891 0.59687051 0.60788856\n",
      " 0.62040485 0.6334899  0.64682909 0.66069392 0.67423324 0.68699706\n",
      " 0.69926697 0.71247076 0.72670151 0.74098937 0.75502275 0.76894945\n",
      " 0.7815879  0.79295153 0.80497264 0.81747924 0.82930894 0.840561\n",
      " 0.85127852 0.86099863 0.87006981 0.8792867  0.88881195 0.8977528\n",
      " 0.90662664 0.91493479 0.92261999 0.92937478 0.93658259 0.94387723\n",
      " 0.95029467 0.95629852 0.96199883 0.96728922 0.97166521 0.97625741\n",
      " 0.98088038 0.98544747 0.98960174 0.99355025 0.99704079 1.\n",
      " 0.61415458 0.61416245]\n",
      "2 day output [[0.61205894]]\n",
      "3 day input [0.41714721 0.41898327 0.42147033 0.42427762 0.42734788 0.4305551\n",
      " 0.43413479 0.4374651  0.44144202 0.44579708 0.45034535 0.45534427\n",
      " 0.460606   0.46646606 0.47201311 0.47840371 0.48528705 0.49276511\n",
      " 0.50083546 0.50983332 0.51931981 0.52818344 0.53833562 0.54922541\n",
      " 0.56069388 0.57260259 0.58463891 0.59687051 0.60788856 0.62040485\n",
      " 0.6334899  0.64682909 0.66069392 0.67423324 0.68699706 0.69926697\n",
      " 0.71247076 0.72670151 0.74098937 0.75502275 0.76894945 0.7815879\n",
      " 0.79295153 0.80497264 0.81747924 0.82930894 0.840561   0.85127852\n",
      " 0.86099863 0.87006981 0.8792867  0.88881195 0.8977528  0.90662664\n",
      " 0.91493479 0.92261999 0.92937478 0.93658259 0.94387723 0.95029467\n",
      " 0.95629852 0.96199883 0.96728922 0.97166521 0.97625741 0.98088038\n",
      " 0.98544747 0.98960174 0.99355025 0.99704079 1.         0.61415458\n",
      " 0.61416245 0.61205894]\n",
      "3 day output [[0.60774046]]\n",
      "4 day input [0.41898327 0.42147033 0.42427762 0.42734788 0.4305551  0.43413479\n",
      " 0.4374651  0.44144202 0.44579708 0.45034535 0.45534427 0.460606\n",
      " 0.46646606 0.47201311 0.47840371 0.48528705 0.49276511 0.50083546\n",
      " 0.50983332 0.51931981 0.52818344 0.53833562 0.54922541 0.56069388\n",
      " 0.57260259 0.58463891 0.59687051 0.60788856 0.62040485 0.6334899\n",
      " 0.64682909 0.66069392 0.67423324 0.68699706 0.69926697 0.71247076\n",
      " 0.72670151 0.74098937 0.75502275 0.76894945 0.7815879  0.79295153\n",
      " 0.80497264 0.81747924 0.82930894 0.840561   0.85127852 0.86099863\n",
      " 0.87006981 0.8792867  0.88881195 0.8977528  0.90662664 0.91493479\n",
      " 0.92261999 0.92937478 0.93658259 0.94387723 0.95029467 0.95629852\n",
      " 0.96199883 0.96728922 0.97166521 0.97625741 0.98088038 0.98544747\n",
      " 0.98960174 0.99355025 0.99704079 1.         0.61415458 0.61416245\n",
      " 0.61205894 0.60774046]\n",
      "4 day output [[0.6014586]]\n",
      "5 day input [0.42147033 0.42427762 0.42734788 0.4305551  0.43413479 0.4374651\n",
      " 0.44144202 0.44579708 0.45034535 0.45534427 0.460606   0.46646606\n",
      " 0.47201311 0.47840371 0.48528705 0.49276511 0.50083546 0.50983332\n",
      " 0.51931981 0.52818344 0.53833562 0.54922541 0.56069388 0.57260259\n",
      " 0.58463891 0.59687051 0.60788856 0.62040485 0.6334899  0.64682909\n",
      " 0.66069392 0.67423324 0.68699706 0.69926697 0.71247076 0.72670151\n",
      " 0.74098937 0.75502275 0.76894945 0.7815879  0.79295153 0.80497264\n",
      " 0.81747924 0.82930894 0.840561   0.85127852 0.86099863 0.87006981\n",
      " 0.8792867  0.88881195 0.8977528  0.90662664 0.91493479 0.92261999\n",
      " 0.92937478 0.93658259 0.94387723 0.95029467 0.95629852 0.96199883\n",
      " 0.96728922 0.97166521 0.97625741 0.98088038 0.98544747 0.98960174\n",
      " 0.99355025 0.99704079 1.         0.61415458 0.61416245 0.61205894\n",
      " 0.60774046 0.60145861]\n",
      "5 day output [[0.5936196]]\n",
      "6 day input [0.42427762 0.42734788 0.4305551  0.43413479 0.4374651  0.44144202\n",
      " 0.44579708 0.45034535 0.45534427 0.460606   0.46646606 0.47201311\n",
      " 0.47840371 0.48528705 0.49276511 0.50083546 0.50983332 0.51931981\n",
      " 0.52818344 0.53833562 0.54922541 0.56069388 0.57260259 0.58463891\n",
      " 0.59687051 0.60788856 0.62040485 0.6334899  0.64682909 0.66069392\n",
      " 0.67423324 0.68699706 0.69926697 0.71247076 0.72670151 0.74098937\n",
      " 0.75502275 0.76894945 0.7815879  0.79295153 0.80497264 0.81747924\n",
      " 0.82930894 0.840561   0.85127852 0.86099863 0.87006981 0.8792867\n",
      " 0.88881195 0.8977528  0.90662664 0.91493479 0.92261999 0.92937478\n",
      " 0.93658259 0.94387723 0.95029467 0.95629852 0.96199883 0.96728922\n",
      " 0.97166521 0.97625741 0.98088038 0.98544747 0.98960174 0.99355025\n",
      " 0.99704079 1.         0.61415458 0.61416245 0.61205894 0.60774046\n",
      " 0.60145861 0.59361959]\n",
      "6 day output [[0.58466554]]\n",
      "7 day input [0.42734788 0.4305551  0.43413479 0.4374651  0.44144202 0.44579708\n",
      " 0.45034535 0.45534427 0.460606   0.46646606 0.47201311 0.47840371\n",
      " 0.48528705 0.49276511 0.50083546 0.50983332 0.51931981 0.52818344\n",
      " 0.53833562 0.54922541 0.56069388 0.57260259 0.58463891 0.59687051\n",
      " 0.60788856 0.62040485 0.6334899  0.64682909 0.66069392 0.67423324\n",
      " 0.68699706 0.69926697 0.71247076 0.72670151 0.74098937 0.75502275\n",
      " 0.76894945 0.7815879  0.79295153 0.80497264 0.81747924 0.82930894\n",
      " 0.840561   0.85127852 0.86099863 0.87006981 0.8792867  0.88881195\n",
      " 0.8977528  0.90662664 0.91493479 0.92261999 0.92937478 0.93658259\n",
      " 0.94387723 0.95029467 0.95629852 0.96199883 0.96728922 0.97166521\n",
      " 0.97625741 0.98088038 0.98544747 0.98960174 0.99355025 0.99704079\n",
      " 1.         0.61415458 0.61416245 0.61205894 0.60774046 0.60145861\n",
      " 0.59361959 0.58466554]\n",
      "7 day output [[0.57500976]]\n",
      "8 day input [0.4305551  0.43413479 0.4374651  0.44144202 0.44579708 0.45034535\n",
      " 0.45534427 0.460606   0.46646606 0.47201311 0.47840371 0.48528705\n",
      " 0.49276511 0.50083546 0.50983332 0.51931981 0.52818344 0.53833562\n",
      " 0.54922541 0.56069388 0.57260259 0.58463891 0.59687051 0.60788856\n",
      " 0.62040485 0.6334899  0.64682909 0.66069392 0.67423324 0.68699706\n",
      " 0.69926697 0.71247076 0.72670151 0.74098937 0.75502275 0.76894945\n",
      " 0.7815879  0.79295153 0.80497264 0.81747924 0.82930894 0.840561\n",
      " 0.85127852 0.86099863 0.87006981 0.8792867  0.88881195 0.8977528\n",
      " 0.90662664 0.91493479 0.92261999 0.92937478 0.93658259 0.94387723\n",
      " 0.95029467 0.95629852 0.96199883 0.96728922 0.97166521 0.97625741\n",
      " 0.98088038 0.98544747 0.98960174 0.99355025 0.99704079 1.\n",
      " 0.61415458 0.61416245 0.61205894 0.60774046 0.60145861 0.59361959\n",
      " 0.58466554 0.57500976]\n",
      "8 day output [[0.5650039]]\n",
      "9 day input [0.43413479 0.4374651  0.44144202 0.44579708 0.45034535 0.45534427\n",
      " 0.460606   0.46646606 0.47201311 0.47840371 0.48528705 0.49276511\n",
      " 0.50083546 0.50983332 0.51931981 0.52818344 0.53833562 0.54922541\n",
      " 0.56069388 0.57260259 0.58463891 0.59687051 0.60788856 0.62040485\n",
      " 0.6334899  0.64682909 0.66069392 0.67423324 0.68699706 0.69926697\n",
      " 0.71247076 0.72670151 0.74098937 0.75502275 0.76894945 0.7815879\n",
      " 0.79295153 0.80497264 0.81747924 0.82930894 0.840561   0.85127852\n",
      " 0.86099863 0.87006981 0.8792867  0.88881195 0.8977528  0.90662664\n",
      " 0.91493479 0.92261999 0.92937478 0.93658259 0.94387723 0.95029467\n",
      " 0.95629852 0.96199883 0.96728922 0.97166521 0.97625741 0.98088038\n",
      " 0.98544747 0.98960174 0.99355025 0.99704079 1.         0.61415458\n",
      " 0.61416245 0.61205894 0.60774046 0.60145861 0.59361959 0.58466554\n",
      " 0.57500976 0.56500387]\n",
      "9 day output [[0.554928]]\n",
      "10 day input [0.4374651  0.44144202 0.44579708 0.45034535 0.45534427 0.460606\n",
      " 0.46646606 0.47201311 0.47840371 0.48528705 0.49276511 0.50083546\n",
      " 0.50983332 0.51931981 0.52818344 0.53833562 0.54922541 0.56069388\n",
      " 0.57260259 0.58463891 0.59687051 0.60788856 0.62040485 0.6334899\n",
      " 0.64682909 0.66069392 0.67423324 0.68699706 0.69926697 0.71247076\n",
      " 0.72670151 0.74098937 0.75502275 0.76894945 0.7815879  0.79295153\n",
      " 0.80497264 0.81747924 0.82930894 0.840561   0.85127852 0.86099863\n",
      " 0.87006981 0.8792867  0.88881195 0.8977528  0.90662664 0.91493479\n",
      " 0.92261999 0.92937478 0.93658259 0.94387723 0.95029467 0.95629852\n",
      " 0.96199883 0.96728922 0.97166521 0.97625741 0.98088038 0.98544747\n",
      " 0.98960174 0.99355025 0.99704079 1.         0.61415458 0.61416245\n",
      " 0.61205894 0.60774046 0.60145861 0.59361959 0.58466554 0.57500976\n",
      " 0.56500387 0.554928  ]\n"
     ]
    },
    {
     "name": "stdout",
     "output_type": "stream",
     "text": [
      "10 day output [[0.54499197]]\n",
      "11 day input [0.44144202 0.44579708 0.45034535 0.45534427 0.460606   0.46646606\n",
      " 0.47201311 0.47840371 0.48528705 0.49276511 0.50083546 0.50983332\n",
      " 0.51931981 0.52818344 0.53833562 0.54922541 0.56069388 0.57260259\n",
      " 0.58463891 0.59687051 0.60788856 0.62040485 0.6334899  0.64682909\n",
      " 0.66069392 0.67423324 0.68699706 0.69926697 0.71247076 0.72670151\n",
      " 0.74098937 0.75502275 0.76894945 0.7815879  0.79295153 0.80497264\n",
      " 0.81747924 0.82930894 0.840561   0.85127852 0.86099863 0.87006981\n",
      " 0.8792867  0.88881195 0.8977528  0.90662664 0.91493479 0.92261999\n",
      " 0.92937478 0.93658259 0.94387723 0.95029467 0.95629852 0.96199883\n",
      " 0.96728922 0.97166521 0.97625741 0.98088038 0.98544747 0.98960174\n",
      " 0.99355025 0.99704079 1.         0.61415458 0.61416245 0.61205894\n",
      " 0.60774046 0.60145861 0.59361959 0.58466554 0.57500976 0.56500387\n",
      " 0.554928   0.54499197]\n",
      "11 day output [[0.5353441]]\n",
      "12 day input [0.44579708 0.45034535 0.45534427 0.460606   0.46646606 0.47201311\n",
      " 0.47840371 0.48528705 0.49276511 0.50083546 0.50983332 0.51931981\n",
      " 0.52818344 0.53833562 0.54922541 0.56069388 0.57260259 0.58463891\n",
      " 0.59687051 0.60788856 0.62040485 0.6334899  0.64682909 0.66069392\n",
      " 0.67423324 0.68699706 0.69926697 0.71247076 0.72670151 0.74098937\n",
      " 0.75502275 0.76894945 0.7815879  0.79295153 0.80497264 0.81747924\n",
      " 0.82930894 0.840561   0.85127852 0.86099863 0.87006981 0.8792867\n",
      " 0.88881195 0.8977528  0.90662664 0.91493479 0.92261999 0.92937478\n",
      " 0.93658259 0.94387723 0.95029467 0.95629852 0.96199883 0.96728922\n",
      " 0.97166521 0.97625741 0.98088038 0.98544747 0.98960174 0.99355025\n",
      " 0.99704079 1.         0.61415458 0.61416245 0.61205894 0.60774046\n",
      " 0.60145861 0.59361959 0.58466554 0.57500976 0.56500387 0.554928\n",
      " 0.54499197 0.53534412]\n",
      "12 day output [[0.5260817]]\n",
      "13 day input [0.45034535 0.45534427 0.460606   0.46646606 0.47201311 0.47840371\n",
      " 0.48528705 0.49276511 0.50083546 0.50983332 0.51931981 0.52818344\n",
      " 0.53833562 0.54922541 0.56069388 0.57260259 0.58463891 0.59687051\n",
      " 0.60788856 0.62040485 0.6334899  0.64682909 0.66069392 0.67423324\n",
      " 0.68699706 0.69926697 0.71247076 0.72670151 0.74098937 0.75502275\n",
      " 0.76894945 0.7815879  0.79295153 0.80497264 0.81747924 0.82930894\n",
      " 0.840561   0.85127852 0.86099863 0.87006981 0.8792867  0.88881195\n",
      " 0.8977528  0.90662664 0.91493479 0.92261999 0.92937478 0.93658259\n",
      " 0.94387723 0.95029467 0.95629852 0.96199883 0.96728922 0.97166521\n",
      " 0.97625741 0.98088038 0.98544747 0.98960174 0.99355025 0.99704079\n",
      " 1.         0.61415458 0.61416245 0.61205894 0.60774046 0.60145861\n",
      " 0.59361959 0.58466554 0.57500976 0.56500387 0.554928   0.54499197\n",
      " 0.53534412 0.52608168]\n",
      "13 day output [[0.5172618]]\n",
      "14 day input [0.45534427 0.460606   0.46646606 0.47201311 0.47840371 0.48528705\n",
      " 0.49276511 0.50083546 0.50983332 0.51931981 0.52818344 0.53833562\n",
      " 0.54922541 0.56069388 0.57260259 0.58463891 0.59687051 0.60788856\n",
      " 0.62040485 0.6334899  0.64682909 0.66069392 0.67423324 0.68699706\n",
      " 0.69926697 0.71247076 0.72670151 0.74098937 0.75502275 0.76894945\n",
      " 0.7815879  0.79295153 0.80497264 0.81747924 0.82930894 0.840561\n",
      " 0.85127852 0.86099863 0.87006981 0.8792867  0.88881195 0.8977528\n",
      " 0.90662664 0.91493479 0.92261999 0.92937478 0.93658259 0.94387723\n",
      " 0.95029467 0.95629852 0.96199883 0.96728922 0.97166521 0.97625741\n",
      " 0.98088038 0.98544747 0.98960174 0.99355025 0.99704079 1.\n",
      " 0.61415458 0.61416245 0.61205894 0.60774046 0.60145861 0.59361959\n",
      " 0.58466554 0.57500976 0.56500387 0.554928   0.54499197 0.53534412\n",
      " 0.52608168 0.5172618 ]\n",
      "14 day output [[0.50891125]]\n",
      "15 day input [0.460606   0.46646606 0.47201311 0.47840371 0.48528705 0.49276511\n",
      " 0.50083546 0.50983332 0.51931981 0.52818344 0.53833562 0.54922541\n",
      " 0.56069388 0.57260259 0.58463891 0.59687051 0.60788856 0.62040485\n",
      " 0.6334899  0.64682909 0.66069392 0.67423324 0.68699706 0.69926697\n",
      " 0.71247076 0.72670151 0.74098937 0.75502275 0.76894945 0.7815879\n",
      " 0.79295153 0.80497264 0.81747924 0.82930894 0.840561   0.85127852\n",
      " 0.86099863 0.87006981 0.8792867  0.88881195 0.8977528  0.90662664\n",
      " 0.91493479 0.92261999 0.92937478 0.93658259 0.94387723 0.95029467\n",
      " 0.95629852 0.96199883 0.96728922 0.97166521 0.97625741 0.98088038\n",
      " 0.98544747 0.98960174 0.99355025 0.99704079 1.         0.61415458\n",
      " 0.61416245 0.61205894 0.60774046 0.60145861 0.59361959 0.58466554\n",
      " 0.57500976 0.56500387 0.554928   0.54499197 0.53534412 0.52608168\n",
      " 0.5172618  0.50891125]\n",
      "15 day output [[0.50103575]]\n",
      "16 day input [0.46646606 0.47201311 0.47840371 0.48528705 0.49276511 0.50083546\n",
      " 0.50983332 0.51931981 0.52818344 0.53833562 0.54922541 0.56069388\n",
      " 0.57260259 0.58463891 0.59687051 0.60788856 0.62040485 0.6334899\n",
      " 0.64682909 0.66069392 0.67423324 0.68699706 0.69926697 0.71247076\n",
      " 0.72670151 0.74098937 0.75502275 0.76894945 0.7815879  0.79295153\n",
      " 0.80497264 0.81747924 0.82930894 0.840561   0.85127852 0.86099863\n",
      " 0.87006981 0.8792867  0.88881195 0.8977528  0.90662664 0.91493479\n",
      " 0.92261999 0.92937478 0.93658259 0.94387723 0.95029467 0.95629852\n",
      " 0.96199883 0.96728922 0.97166521 0.97625741 0.98088038 0.98544747\n",
      " 0.98960174 0.99355025 0.99704079 1.         0.61415458 0.61416245\n",
      " 0.61205894 0.60774046 0.60145861 0.59361959 0.58466554 0.57500976\n",
      " 0.56500387 0.554928   0.54499197 0.53534412 0.52608168 0.5172618\n",
      " 0.50891125 0.50103575]\n",
      "16 day output [[0.49362606]]\n",
      "17 day input [0.47201311 0.47840371 0.48528705 0.49276511 0.50083546 0.50983332\n",
      " 0.51931981 0.52818344 0.53833562 0.54922541 0.56069388 0.57260259\n",
      " 0.58463891 0.59687051 0.60788856 0.62040485 0.6334899  0.64682909\n",
      " 0.66069392 0.67423324 0.68699706 0.69926697 0.71247076 0.72670151\n",
      " 0.74098937 0.75502275 0.76894945 0.7815879  0.79295153 0.80497264\n",
      " 0.81747924 0.82930894 0.840561   0.85127852 0.86099863 0.87006981\n",
      " 0.8792867  0.88881195 0.8977528  0.90662664 0.91493479 0.92261999\n",
      " 0.92937478 0.93658259 0.94387723 0.95029467 0.95629852 0.96199883\n",
      " 0.96728922 0.97166521 0.97625741 0.98088038 0.98544747 0.98960174\n",
      " 0.99355025 0.99704079 1.         0.61415458 0.61416245 0.61205894\n",
      " 0.60774046 0.60145861 0.59361959 0.58466554 0.57500976 0.56500387\n",
      " 0.554928   0.54499197 0.53534412 0.52608168 0.5172618  0.50891125\n",
      " 0.50103575 0.49362606]\n",
      "17 day output [[0.4866638]]\n",
      "18 day input [0.47840371 0.48528705 0.49276511 0.50083546 0.50983332 0.51931981\n",
      " 0.52818344 0.53833562 0.54922541 0.56069388 0.57260259 0.58463891\n",
      " 0.59687051 0.60788856 0.62040485 0.6334899  0.64682909 0.66069392\n",
      " 0.67423324 0.68699706 0.69926697 0.71247076 0.72670151 0.74098937\n",
      " 0.75502275 0.76894945 0.7815879  0.79295153 0.80497264 0.81747924\n",
      " 0.82930894 0.840561   0.85127852 0.86099863 0.87006981 0.8792867\n",
      " 0.88881195 0.8977528  0.90662664 0.91493479 0.92261999 0.92937478\n",
      " 0.93658259 0.94387723 0.95029467 0.95629852 0.96199883 0.96728922\n",
      " 0.97166521 0.97625741 0.98088038 0.98544747 0.98960174 0.99355025\n",
      " 0.99704079 1.         0.61415458 0.61416245 0.61205894 0.60774046\n",
      " 0.60145861 0.59361959 0.58466554 0.57500976 0.56500387 0.554928\n",
      " 0.54499197 0.53534412 0.52608168 0.5172618  0.50891125 0.50103575\n",
      " 0.49362606 0.48666379]\n",
      "18 day output [[0.48012492]]\n",
      "19 day input [0.48528705 0.49276511 0.50083546 0.50983332 0.51931981 0.52818344\n",
      " 0.53833562 0.54922541 0.56069388 0.57260259 0.58463891 0.59687051\n",
      " 0.60788856 0.62040485 0.6334899  0.64682909 0.66069392 0.67423324\n",
      " 0.68699706 0.69926697 0.71247076 0.72670151 0.74098937 0.75502275\n",
      " 0.76894945 0.7815879  0.79295153 0.80497264 0.81747924 0.82930894\n",
      " 0.840561   0.85127852 0.86099863 0.87006981 0.8792867  0.88881195\n",
      " 0.8977528  0.90662664 0.91493479 0.92261999 0.92937478 0.93658259\n",
      " 0.94387723 0.95029467 0.95629852 0.96199883 0.96728922 0.97166521\n",
      " 0.97625741 0.98088038 0.98544747 0.98960174 0.99355025 0.99704079\n",
      " 1.         0.61415458 0.61416245 0.61205894 0.60774046 0.60145861\n",
      " 0.59361959 0.58466554 0.57500976 0.56500387 0.554928   0.54499197\n",
      " 0.53534412 0.52608168 0.5172618  0.50891125 0.50103575 0.49362606\n",
      " 0.48666379 0.48012492]\n",
      "19 day output [[0.473983]]\n",
      "20 day input [0.49276511 0.50083546 0.50983332 0.51931981 0.52818344 0.53833562\n",
      " 0.54922541 0.56069388 0.57260259 0.58463891 0.59687051 0.60788856\n",
      " 0.62040485 0.6334899  0.64682909 0.66069392 0.67423324 0.68699706\n",
      " 0.69926697 0.71247076 0.72670151 0.74098937 0.75502275 0.76894945\n",
      " 0.7815879  0.79295153 0.80497264 0.81747924 0.82930894 0.840561\n",
      " 0.85127852 0.86099863 0.87006981 0.8792867  0.88881195 0.8977528\n",
      " 0.90662664 0.91493479 0.92261999 0.92937478 0.93658259 0.94387723\n",
      " 0.95029467 0.95629852 0.96199883 0.96728922 0.97166521 0.97625741\n",
      " 0.98088038 0.98544747 0.98960174 0.99355025 0.99704079 1.\n",
      " 0.61415458 0.61416245 0.61205894 0.60774046 0.60145861 0.59361959\n",
      " 0.58466554 0.57500976 0.56500387 0.554928   0.54499197 0.53534412\n",
      " 0.52608168 0.5172618  0.50891125 0.50103575 0.49362606 0.48666379\n",
      " 0.48012492 0.47398299]\n"
     ]
    },
    {
     "name": "stdout",
     "output_type": "stream",
     "text": [
      "20 day output [[0.46821097]]\n",
      "21 day input [0.50083546 0.50983332 0.51931981 0.52818344 0.53833562 0.54922541\n",
      " 0.56069388 0.57260259 0.58463891 0.59687051 0.60788856 0.62040485\n",
      " 0.6334899  0.64682909 0.66069392 0.67423324 0.68699706 0.69926697\n",
      " 0.71247076 0.72670151 0.74098937 0.75502275 0.76894945 0.7815879\n",
      " 0.79295153 0.80497264 0.81747924 0.82930894 0.840561   0.85127852\n",
      " 0.86099863 0.87006981 0.8792867  0.88881195 0.8977528  0.90662664\n",
      " 0.91493479 0.92261999 0.92937478 0.93658259 0.94387723 0.95029467\n",
      " 0.95629852 0.96199883 0.96728922 0.97166521 0.97625741 0.98088038\n",
      " 0.98544747 0.98960174 0.99355025 0.99704079 1.         0.61415458\n",
      " 0.61416245 0.61205894 0.60774046 0.60145861 0.59361959 0.58466554\n",
      " 0.57500976 0.56500387 0.554928   0.54499197 0.53534412 0.52608168\n",
      " 0.5172618  0.50891125 0.50103575 0.49362606 0.48666379 0.48012492\n",
      " 0.47398299 0.46821097]\n",
      "21 day output [[0.46278208]]\n",
      "22 day input [0.50983332 0.51931981 0.52818344 0.53833562 0.54922541 0.56069388\n",
      " 0.57260259 0.58463891 0.59687051 0.60788856 0.62040485 0.6334899\n",
      " 0.64682909 0.66069392 0.67423324 0.68699706 0.69926697 0.71247076\n",
      " 0.72670151 0.74098937 0.75502275 0.76894945 0.7815879  0.79295153\n",
      " 0.80497264 0.81747924 0.82930894 0.840561   0.85127852 0.86099863\n",
      " 0.87006981 0.8792867  0.88881195 0.8977528  0.90662664 0.91493479\n",
      " 0.92261999 0.92937478 0.93658259 0.94387723 0.95029467 0.95629852\n",
      " 0.96199883 0.96728922 0.97166521 0.97625741 0.98088038 0.98544747\n",
      " 0.98960174 0.99355025 0.99704079 1.         0.61415458 0.61416245\n",
      " 0.61205894 0.60774046 0.60145861 0.59361959 0.58466554 0.57500976\n",
      " 0.56500387 0.554928   0.54499197 0.53534412 0.52608168 0.5172618\n",
      " 0.50891125 0.50103575 0.49362606 0.48666379 0.48012492 0.47398299\n",
      " 0.46821097 0.46278208]\n",
      "22 day output [[0.45767114]]\n",
      "23 day input [0.51931981 0.52818344 0.53833562 0.54922541 0.56069388 0.57260259\n",
      " 0.58463891 0.59687051 0.60788856 0.62040485 0.6334899  0.64682909\n",
      " 0.66069392 0.67423324 0.68699706 0.69926697 0.71247076 0.72670151\n",
      " 0.74098937 0.75502275 0.76894945 0.7815879  0.79295153 0.80497264\n",
      " 0.81747924 0.82930894 0.840561   0.85127852 0.86099863 0.87006981\n",
      " 0.8792867  0.88881195 0.8977528  0.90662664 0.91493479 0.92261999\n",
      " 0.92937478 0.93658259 0.94387723 0.95029467 0.95629852 0.96199883\n",
      " 0.96728922 0.97166521 0.97625741 0.98088038 0.98544747 0.98960174\n",
      " 0.99355025 0.99704079 1.         0.61415458 0.61416245 0.61205894\n",
      " 0.60774046 0.60145861 0.59361959 0.58466554 0.57500976 0.56500387\n",
      " 0.554928   0.54499197 0.53534412 0.52608168 0.5172618  0.50891125\n",
      " 0.50103575 0.49362606 0.48666379 0.48012492 0.47398299 0.46821097\n",
      " 0.46278208 0.45767114]\n",
      "23 day output [[0.4528544]]\n",
      "24 day input [0.52818344 0.53833562 0.54922541 0.56069388 0.57260259 0.58463891\n",
      " 0.59687051 0.60788856 0.62040485 0.6334899  0.64682909 0.66069392\n",
      " 0.67423324 0.68699706 0.69926697 0.71247076 0.72670151 0.74098937\n",
      " 0.75502275 0.76894945 0.7815879  0.79295153 0.80497264 0.81747924\n",
      " 0.82930894 0.840561   0.85127852 0.86099863 0.87006981 0.8792867\n",
      " 0.88881195 0.8977528  0.90662664 0.91493479 0.92261999 0.92937478\n",
      " 0.93658259 0.94387723 0.95029467 0.95629852 0.96199883 0.96728922\n",
      " 0.97166521 0.97625741 0.98088038 0.98544747 0.98960174 0.99355025\n",
      " 0.99704079 1.         0.61415458 0.61416245 0.61205894 0.60774046\n",
      " 0.60145861 0.59361959 0.58466554 0.57500976 0.56500387 0.554928\n",
      " 0.54499197 0.53534412 0.52608168 0.5172618  0.50891125 0.50103575\n",
      " 0.49362606 0.48666379 0.48012492 0.47398299 0.46821097 0.46278208\n",
      " 0.45767114 0.45285439]\n",
      "24 day output [[0.44831002]]\n",
      "25 day input [0.53833562 0.54922541 0.56069388 0.57260259 0.58463891 0.59687051\n",
      " 0.60788856 0.62040485 0.6334899  0.64682909 0.66069392 0.67423324\n",
      " 0.68699706 0.69926697 0.71247076 0.72670151 0.74098937 0.75502275\n",
      " 0.76894945 0.7815879  0.79295153 0.80497264 0.81747924 0.82930894\n",
      " 0.840561   0.85127852 0.86099863 0.87006981 0.8792867  0.88881195\n",
      " 0.8977528  0.90662664 0.91493479 0.92261999 0.92937478 0.93658259\n",
      " 0.94387723 0.95029467 0.95629852 0.96199883 0.96728922 0.97166521\n",
      " 0.97625741 0.98088038 0.98544747 0.98960174 0.99355025 0.99704079\n",
      " 1.         0.61415458 0.61416245 0.61205894 0.60774046 0.60145861\n",
      " 0.59361959 0.58466554 0.57500976 0.56500387 0.554928   0.54499197\n",
      " 0.53534412 0.52608168 0.5172618  0.50891125 0.50103575 0.49362606\n",
      " 0.48666379 0.48012492 0.47398299 0.46821097 0.46278208 0.45767114\n",
      " 0.45285439 0.44831002]\n",
      "25 day output [[0.4440183]]\n",
      "26 day input [0.54922541 0.56069388 0.57260259 0.58463891 0.59687051 0.60788856\n",
      " 0.62040485 0.6334899  0.64682909 0.66069392 0.67423324 0.68699706\n",
      " 0.69926697 0.71247076 0.72670151 0.74098937 0.75502275 0.76894945\n",
      " 0.7815879  0.79295153 0.80497264 0.81747924 0.82930894 0.840561\n",
      " 0.85127852 0.86099863 0.87006981 0.8792867  0.88881195 0.8977528\n",
      " 0.90662664 0.91493479 0.92261999 0.92937478 0.93658259 0.94387723\n",
      " 0.95029467 0.95629852 0.96199883 0.96728922 0.97166521 0.97625741\n",
      " 0.98088038 0.98544747 0.98960174 0.99355025 0.99704079 1.\n",
      " 0.61415458 0.61416245 0.61205894 0.60774046 0.60145861 0.59361959\n",
      " 0.58466554 0.57500976 0.56500387 0.554928   0.54499197 0.53534412\n",
      " 0.52608168 0.5172618  0.50891125 0.50103575 0.49362606 0.48666379\n",
      " 0.48012492 0.47398299 0.46821097 0.46278208 0.45767114 0.45285439\n",
      " 0.44831002 0.4440183 ]\n",
      "26 day output [[0.43996084]]\n",
      "27 day input [0.56069388 0.57260259 0.58463891 0.59687051 0.60788856 0.62040485\n",
      " 0.6334899  0.64682909 0.66069392 0.67423324 0.68699706 0.69926697\n",
      " 0.71247076 0.72670151 0.74098937 0.75502275 0.76894945 0.7815879\n",
      " 0.79295153 0.80497264 0.81747924 0.82930894 0.840561   0.85127852\n",
      " 0.86099863 0.87006981 0.8792867  0.88881195 0.8977528  0.90662664\n",
      " 0.91493479 0.92261999 0.92937478 0.93658259 0.94387723 0.95029467\n",
      " 0.95629852 0.96199883 0.96728922 0.97166521 0.97625741 0.98088038\n",
      " 0.98544747 0.98960174 0.99355025 0.99704079 1.         0.61415458\n",
      " 0.61416245 0.61205894 0.60774046 0.60145861 0.59361959 0.58466554\n",
      " 0.57500976 0.56500387 0.554928   0.54499197 0.53534412 0.52608168\n",
      " 0.5172618  0.50891125 0.50103575 0.49362606 0.48666379 0.48012492\n",
      " 0.47398299 0.46821097 0.46278208 0.45767114 0.45285439 0.44831002\n",
      " 0.4440183  0.43996084]\n",
      "27 day output [[0.43612102]]\n",
      "28 day input [0.57260259 0.58463891 0.59687051 0.60788856 0.62040485 0.6334899\n",
      " 0.64682909 0.66069392 0.67423324 0.68699706 0.69926697 0.71247076\n",
      " 0.72670151 0.74098937 0.75502275 0.76894945 0.7815879  0.79295153\n",
      " 0.80497264 0.81747924 0.82930894 0.840561   0.85127852 0.86099863\n",
      " 0.87006981 0.8792867  0.88881195 0.8977528  0.90662664 0.91493479\n",
      " 0.92261999 0.92937478 0.93658259 0.94387723 0.95029467 0.95629852\n",
      " 0.96199883 0.96728922 0.97166521 0.97625741 0.98088038 0.98544747\n",
      " 0.98960174 0.99355025 0.99704079 1.         0.61415458 0.61416245\n",
      " 0.61205894 0.60774046 0.60145861 0.59361959 0.58466554 0.57500976\n",
      " 0.56500387 0.554928   0.54499197 0.53534412 0.52608168 0.5172618\n",
      " 0.50891125 0.50103575 0.49362606 0.48666379 0.48012492 0.47398299\n",
      " 0.46821097 0.46278208 0.45767114 0.45285439 0.44831002 0.4440183\n",
      " 0.43996084 0.43612102]\n",
      "28 day output [[0.43248418]]\n",
      "29 day input [0.58463891 0.59687051 0.60788856 0.62040485 0.6334899  0.64682909\n",
      " 0.66069392 0.67423324 0.68699706 0.69926697 0.71247076 0.72670151\n",
      " 0.74098937 0.75502275 0.76894945 0.7815879  0.79295153 0.80497264\n",
      " 0.81747924 0.82930894 0.840561   0.85127852 0.86099863 0.87006981\n",
      " 0.8792867  0.88881195 0.8977528  0.90662664 0.91493479 0.92261999\n",
      " 0.92937478 0.93658259 0.94387723 0.95029467 0.95629852 0.96199883\n",
      " 0.96728922 0.97166521 0.97625741 0.98088038 0.98544747 0.98960174\n",
      " 0.99355025 0.99704079 1.         0.61415458 0.61416245 0.61205894\n",
      " 0.60774046 0.60145861 0.59361959 0.58466554 0.57500976 0.56500387\n",
      " 0.554928   0.54499197 0.53534412 0.52608168 0.5172618  0.50891125\n",
      " 0.50103575 0.49362606 0.48666379 0.48012492 0.47398299 0.46821097\n",
      " 0.46278208 0.45767114 0.45285439 0.44831002 0.4440183  0.43996084\n",
      " 0.43612102 0.43248418]\n",
      "29 day output [[0.42903644]]\n",
      "30 day input [0.59687051 0.60788856 0.62040485 0.6334899  0.64682909 0.66069392\n",
      " 0.67423324 0.68699706 0.69926697 0.71247076 0.72670151 0.74098937\n",
      " 0.75502275 0.76894945 0.7815879  0.79295153 0.80497264 0.81747924\n",
      " 0.82930894 0.840561   0.85127852 0.86099863 0.87006981 0.8792867\n",
      " 0.88881195 0.8977528  0.90662664 0.91493479 0.92261999 0.92937478\n",
      " 0.93658259 0.94387723 0.95029467 0.95629852 0.96199883 0.96728922\n",
      " 0.97166521 0.97625741 0.98088038 0.98544747 0.98960174 0.99355025\n",
      " 0.99704079 1.         0.61415458 0.61416245 0.61205894 0.60774046\n",
      " 0.60145861 0.59361959 0.58466554 0.57500976 0.56500387 0.554928\n",
      " 0.54499197 0.53534412 0.52608168 0.5172618  0.50891125 0.50103575\n",
      " 0.49362606 0.48666379 0.48012492 0.47398299 0.46821097 0.46278208\n",
      " 0.45767114 0.45285439 0.44831002 0.4440183  0.43996084 0.43612102\n",
      " 0.43248418 0.42903644]\n"
     ]
    },
    {
     "name": "stdout",
     "output_type": "stream",
     "text": [
      "30 day output [[0.42576528]]\n",
      "31 day input [0.60788856 0.62040485 0.6334899  0.64682909 0.66069392 0.67423324\n",
      " 0.68699706 0.69926697 0.71247076 0.72670151 0.74098937 0.75502275\n",
      " 0.76894945 0.7815879  0.79295153 0.80497264 0.81747924 0.82930894\n",
      " 0.840561   0.85127852 0.86099863 0.87006981 0.8792867  0.88881195\n",
      " 0.8977528  0.90662664 0.91493479 0.92261999 0.92937478 0.93658259\n",
      " 0.94387723 0.95029467 0.95629852 0.96199883 0.96728922 0.97166521\n",
      " 0.97625741 0.98088038 0.98544747 0.98960174 0.99355025 0.99704079\n",
      " 1.         0.61415458 0.61416245 0.61205894 0.60774046 0.60145861\n",
      " 0.59361959 0.58466554 0.57500976 0.56500387 0.554928   0.54499197\n",
      " 0.53534412 0.52608168 0.5172618  0.50891125 0.50103575 0.49362606\n",
      " 0.48666379 0.48012492 0.47398299 0.46821097 0.46278208 0.45767114\n",
      " 0.45285439 0.44831002 0.4440183  0.43996084 0.43612102 0.43248418\n",
      " 0.42903644 0.42576528]\n",
      "31 day output [[0.4226596]]\n",
      "32 day input [0.62040485 0.6334899  0.64682909 0.66069392 0.67423324 0.68699706\n",
      " 0.69926697 0.71247076 0.72670151 0.74098937 0.75502275 0.76894945\n",
      " 0.7815879  0.79295153 0.80497264 0.81747924 0.82930894 0.840561\n",
      " 0.85127852 0.86099863 0.87006981 0.8792867  0.88881195 0.8977528\n",
      " 0.90662664 0.91493479 0.92261999 0.92937478 0.93658259 0.94387723\n",
      " 0.95029467 0.95629852 0.96199883 0.96728922 0.97166521 0.97625741\n",
      " 0.98088038 0.98544747 0.98960174 0.99355025 0.99704079 1.\n",
      " 0.61415458 0.61416245 0.61205894 0.60774046 0.60145861 0.59361959\n",
      " 0.58466554 0.57500976 0.56500387 0.554928   0.54499197 0.53534412\n",
      " 0.52608168 0.5172618  0.50891125 0.50103575 0.49362606 0.48666379\n",
      " 0.48012492 0.47398299 0.46821097 0.46278208 0.45767114 0.45285439\n",
      " 0.44831002 0.4440183  0.43996084 0.43612102 0.43248418 0.42903644\n",
      " 0.42576528 0.42265961]\n",
      "32 day output [[0.41970864]]\n",
      "33 day input [0.6334899  0.64682909 0.66069392 0.67423324 0.68699706 0.69926697\n",
      " 0.71247076 0.72670151 0.74098937 0.75502275 0.76894945 0.7815879\n",
      " 0.79295153 0.80497264 0.81747924 0.82930894 0.840561   0.85127852\n",
      " 0.86099863 0.87006981 0.8792867  0.88881195 0.8977528  0.90662664\n",
      " 0.91493479 0.92261999 0.92937478 0.93658259 0.94387723 0.95029467\n",
      " 0.95629852 0.96199883 0.96728922 0.97166521 0.97625741 0.98088038\n",
      " 0.98544747 0.98960174 0.99355025 0.99704079 1.         0.61415458\n",
      " 0.61416245 0.61205894 0.60774046 0.60145861 0.59361959 0.58466554\n",
      " 0.57500976 0.56500387 0.554928   0.54499197 0.53534412 0.52608168\n",
      " 0.5172618  0.50891125 0.50103575 0.49362606 0.48666379 0.48012492\n",
      " 0.47398299 0.46821097 0.46278208 0.45767114 0.45285439 0.44831002\n",
      " 0.4440183  0.43996084 0.43612102 0.43248418 0.42903644 0.42576528\n",
      " 0.42265961 0.41970864]\n",
      "33 day output [[0.41690308]]\n",
      "34 day input [0.64682909 0.66069392 0.67423324 0.68699706 0.69926697 0.71247076\n",
      " 0.72670151 0.74098937 0.75502275 0.76894945 0.7815879  0.79295153\n",
      " 0.80497264 0.81747924 0.82930894 0.840561   0.85127852 0.86099863\n",
      " 0.87006981 0.8792867  0.88881195 0.8977528  0.90662664 0.91493479\n",
      " 0.92261999 0.92937478 0.93658259 0.94387723 0.95029467 0.95629852\n",
      " 0.96199883 0.96728922 0.97166521 0.97625741 0.98088038 0.98544747\n",
      " 0.98960174 0.99355025 0.99704079 1.         0.61415458 0.61416245\n",
      " 0.61205894 0.60774046 0.60145861 0.59361959 0.58466554 0.57500976\n",
      " 0.56500387 0.554928   0.54499197 0.53534412 0.52608168 0.5172618\n",
      " 0.50891125 0.50103575 0.49362606 0.48666379 0.48012492 0.47398299\n",
      " 0.46821097 0.46278208 0.45767114 0.45285439 0.44831002 0.4440183\n",
      " 0.43996084 0.43612102 0.43248418 0.42903644 0.42576528 0.42265961\n",
      " 0.41970864 0.41690308]\n",
      "34 day output [[0.41423404]]\n",
      "35 day input [0.66069392 0.67423324 0.68699706 0.69926697 0.71247076 0.72670151\n",
      " 0.74098937 0.75502275 0.76894945 0.7815879  0.79295153 0.80497264\n",
      " 0.81747924 0.82930894 0.840561   0.85127852 0.86099863 0.87006981\n",
      " 0.8792867  0.88881195 0.8977528  0.90662664 0.91493479 0.92261999\n",
      " 0.92937478 0.93658259 0.94387723 0.95029467 0.95629852 0.96199883\n",
      " 0.96728922 0.97166521 0.97625741 0.98088038 0.98544747 0.98960174\n",
      " 0.99355025 0.99704079 1.         0.61415458 0.61416245 0.61205894\n",
      " 0.60774046 0.60145861 0.59361959 0.58466554 0.57500976 0.56500387\n",
      " 0.554928   0.54499197 0.53534412 0.52608168 0.5172618  0.50891125\n",
      " 0.50103575 0.49362606 0.48666379 0.48012492 0.47398299 0.46821097\n",
      " 0.46278208 0.45767114 0.45285439 0.44831002 0.4440183  0.43996084\n",
      " 0.43612102 0.43248418 0.42903644 0.42576528 0.42265961 0.41970864\n",
      " 0.41690308 0.41423404]\n",
      "35 day output [[0.41169325]]\n",
      "36 day input [0.67423324 0.68699706 0.69926697 0.71247076 0.72670151 0.74098937\n",
      " 0.75502275 0.76894945 0.7815879  0.79295153 0.80497264 0.81747924\n",
      " 0.82930894 0.840561   0.85127852 0.86099863 0.87006981 0.8792867\n",
      " 0.88881195 0.8977528  0.90662664 0.91493479 0.92261999 0.92937478\n",
      " 0.93658259 0.94387723 0.95029467 0.95629852 0.96199883 0.96728922\n",
      " 0.97166521 0.97625741 0.98088038 0.98544747 0.98960174 0.99355025\n",
      " 0.99704079 1.         0.61415458 0.61416245 0.61205894 0.60774046\n",
      " 0.60145861 0.59361959 0.58466554 0.57500976 0.56500387 0.554928\n",
      " 0.54499197 0.53534412 0.52608168 0.5172618  0.50891125 0.50103575\n",
      " 0.49362606 0.48666379 0.48012492 0.47398299 0.46821097 0.46278208\n",
      " 0.45767114 0.45285439 0.44831002 0.4440183  0.43996084 0.43612102\n",
      " 0.43248418 0.42903644 0.42576528 0.42265961 0.41970864 0.41690308\n",
      " 0.41423404 0.41169325]\n",
      "36 day output [[0.4092734]]\n",
      "37 day input [0.68699706 0.69926697 0.71247076 0.72670151 0.74098937 0.75502275\n",
      " 0.76894945 0.7815879  0.79295153 0.80497264 0.81747924 0.82930894\n",
      " 0.840561   0.85127852 0.86099863 0.87006981 0.8792867  0.88881195\n",
      " 0.8977528  0.90662664 0.91493479 0.92261999 0.92937478 0.93658259\n",
      " 0.94387723 0.95029467 0.95629852 0.96199883 0.96728922 0.97166521\n",
      " 0.97625741 0.98088038 0.98544747 0.98960174 0.99355025 0.99704079\n",
      " 1.         0.61415458 0.61416245 0.61205894 0.60774046 0.60145861\n",
      " 0.59361959 0.58466554 0.57500976 0.56500387 0.554928   0.54499197\n",
      " 0.53534412 0.52608168 0.5172618  0.50891125 0.50103575 0.49362606\n",
      " 0.48666379 0.48012492 0.47398299 0.46821097 0.46278208 0.45767114\n",
      " 0.45285439 0.44831002 0.4440183  0.43996084 0.43612102 0.43248418\n",
      " 0.42903644 0.42576528 0.42265961 0.41970864 0.41690308 0.41423404\n",
      " 0.41169325 0.40927339]\n",
      "37 day output [[0.4069675]]\n",
      "38 day input [0.69926697 0.71247076 0.72670151 0.74098937 0.75502275 0.76894945\n",
      " 0.7815879  0.79295153 0.80497264 0.81747924 0.82930894 0.840561\n",
      " 0.85127852 0.86099863 0.87006981 0.8792867  0.88881195 0.8977528\n",
      " 0.90662664 0.91493479 0.92261999 0.92937478 0.93658259 0.94387723\n",
      " 0.95029467 0.95629852 0.96199883 0.96728922 0.97166521 0.97625741\n",
      " 0.98088038 0.98544747 0.98960174 0.99355025 0.99704079 1.\n",
      " 0.61415458 0.61416245 0.61205894 0.60774046 0.60145861 0.59361959\n",
      " 0.58466554 0.57500976 0.56500387 0.554928   0.54499197 0.53534412\n",
      " 0.52608168 0.5172618  0.50891125 0.50103575 0.49362606 0.48666379\n",
      " 0.48012492 0.47398299 0.46821097 0.46278208 0.45767114 0.45285439\n",
      " 0.44831002 0.4440183  0.43996084 0.43612102 0.43248418 0.42903644\n",
      " 0.42576528 0.42265961 0.41970864 0.41690308 0.41423404 0.41169325\n",
      " 0.40927339 0.40696749]\n",
      "38 day output [[0.40476906]]\n",
      "39 day input [0.71247076 0.72670151 0.74098937 0.75502275 0.76894945 0.7815879\n",
      " 0.79295153 0.80497264 0.81747924 0.82930894 0.840561   0.85127852\n",
      " 0.86099863 0.87006981 0.8792867  0.88881195 0.8977528  0.90662664\n",
      " 0.91493479 0.92261999 0.92937478 0.93658259 0.94387723 0.95029467\n",
      " 0.95629852 0.96199883 0.96728922 0.97166521 0.97625741 0.98088038\n",
      " 0.98544747 0.98960174 0.99355025 0.99704079 1.         0.61415458\n",
      " 0.61416245 0.61205894 0.60774046 0.60145861 0.59361959 0.58466554\n",
      " 0.57500976 0.56500387 0.554928   0.54499197 0.53534412 0.52608168\n",
      " 0.5172618  0.50891125 0.50103575 0.49362606 0.48666379 0.48012492\n",
      " 0.47398299 0.46821097 0.46278208 0.45767114 0.45285439 0.44831002\n",
      " 0.4440183  0.43996084 0.43612102 0.43248418 0.42903644 0.42576528\n",
      " 0.42265961 0.41970864 0.41690308 0.41423404 0.41169325 0.40927339\n",
      " 0.40696749 0.40476906]\n",
      "39 day output [[0.4026719]]\n",
      "40 day input [0.72670151 0.74098937 0.75502275 0.76894945 0.7815879  0.79295153\n",
      " 0.80497264 0.81747924 0.82930894 0.840561   0.85127852 0.86099863\n",
      " 0.87006981 0.8792867  0.88881195 0.8977528  0.90662664 0.91493479\n",
      " 0.92261999 0.92937478 0.93658259 0.94387723 0.95029467 0.95629852\n",
      " 0.96199883 0.96728922 0.97166521 0.97625741 0.98088038 0.98544747\n",
      " 0.98960174 0.99355025 0.99704079 1.         0.61415458 0.61416245\n",
      " 0.61205894 0.60774046 0.60145861 0.59361959 0.58466554 0.57500976\n",
      " 0.56500387 0.554928   0.54499197 0.53534412 0.52608168 0.5172618\n",
      " 0.50891125 0.50103575 0.49362606 0.48666379 0.48012492 0.47398299\n",
      " 0.46821097 0.46278208 0.45767114 0.45285439 0.44831002 0.4440183\n",
      " 0.43996084 0.43612102 0.43248418 0.42903644 0.42576528 0.42265961\n",
      " 0.41970864 0.41690308 0.41423404 0.41169325 0.40927339 0.40696749\n",
      " 0.40476906 0.4026719 ]\n"
     ]
    },
    {
     "name": "stdout",
     "output_type": "stream",
     "text": [
      "40 day output [[0.40067068]]\n",
      "41 day input [0.74098937 0.75502275 0.76894945 0.7815879  0.79295153 0.80497264\n",
      " 0.81747924 0.82930894 0.840561   0.85127852 0.86099863 0.87006981\n",
      " 0.8792867  0.88881195 0.8977528  0.90662664 0.91493479 0.92261999\n",
      " 0.92937478 0.93658259 0.94387723 0.95029467 0.95629852 0.96199883\n",
      " 0.96728922 0.97166521 0.97625741 0.98088038 0.98544747 0.98960174\n",
      " 0.99355025 0.99704079 1.         0.61415458 0.61416245 0.61205894\n",
      " 0.60774046 0.60145861 0.59361959 0.58466554 0.57500976 0.56500387\n",
      " 0.554928   0.54499197 0.53534412 0.52608168 0.5172618  0.50891125\n",
      " 0.50103575 0.49362606 0.48666379 0.48012492 0.47398299 0.46821097\n",
      " 0.46278208 0.45767114 0.45285439 0.44831002 0.4440183  0.43996084\n",
      " 0.43612102 0.43248418 0.42903644 0.42576528 0.42265961 0.41970864\n",
      " 0.41690308 0.41423404 0.41169325 0.40927339 0.40696749 0.40476906\n",
      " 0.4026719  0.40067068]\n",
      "41 day output [[0.39875993]]\n",
      "42 day input [0.75502275 0.76894945 0.7815879  0.79295153 0.80497264 0.81747924\n",
      " 0.82930894 0.840561   0.85127852 0.86099863 0.87006981 0.8792867\n",
      " 0.88881195 0.8977528  0.90662664 0.91493479 0.92261999 0.92937478\n",
      " 0.93658259 0.94387723 0.95029467 0.95629852 0.96199883 0.96728922\n",
      " 0.97166521 0.97625741 0.98088038 0.98544747 0.98960174 0.99355025\n",
      " 0.99704079 1.         0.61415458 0.61416245 0.61205894 0.60774046\n",
      " 0.60145861 0.59361959 0.58466554 0.57500976 0.56500387 0.554928\n",
      " 0.54499197 0.53534412 0.52608168 0.5172618  0.50891125 0.50103575\n",
      " 0.49362606 0.48666379 0.48012492 0.47398299 0.46821097 0.46278208\n",
      " 0.45767114 0.45285439 0.44831002 0.4440183  0.43996084 0.43612102\n",
      " 0.43248418 0.42903644 0.42576528 0.42265961 0.41970864 0.41690308\n",
      " 0.41423404 0.41169325 0.40927339 0.40696749 0.40476906 0.4026719\n",
      " 0.40067068 0.39875993]\n",
      "42 day output [[0.39693505]]\n",
      "43 day input [0.76894945 0.7815879  0.79295153 0.80497264 0.81747924 0.82930894\n",
      " 0.840561   0.85127852 0.86099863 0.87006981 0.8792867  0.88881195\n",
      " 0.8977528  0.90662664 0.91493479 0.92261999 0.92937478 0.93658259\n",
      " 0.94387723 0.95029467 0.95629852 0.96199883 0.96728922 0.97166521\n",
      " 0.97625741 0.98088038 0.98544747 0.98960174 0.99355025 0.99704079\n",
      " 1.         0.61415458 0.61416245 0.61205894 0.60774046 0.60145861\n",
      " 0.59361959 0.58466554 0.57500976 0.56500387 0.554928   0.54499197\n",
      " 0.53534412 0.52608168 0.5172618  0.50891125 0.50103575 0.49362606\n",
      " 0.48666379 0.48012492 0.47398299 0.46821097 0.46278208 0.45767114\n",
      " 0.45285439 0.44831002 0.4440183  0.43996084 0.43612102 0.43248418\n",
      " 0.42903644 0.42576528 0.42265961 0.41970864 0.41690308 0.41423404\n",
      " 0.41169325 0.40927339 0.40696749 0.40476906 0.4026719  0.40067068\n",
      " 0.39875993 0.39693505]\n",
      "43 day output [[0.39519134]]\n",
      "44 day input [0.7815879  0.79295153 0.80497264 0.81747924 0.82930894 0.840561\n",
      " 0.85127852 0.86099863 0.87006981 0.8792867  0.88881195 0.8977528\n",
      " 0.90662664 0.91493479 0.92261999 0.92937478 0.93658259 0.94387723\n",
      " 0.95029467 0.95629852 0.96199883 0.96728922 0.97166521 0.97625741\n",
      " 0.98088038 0.98544747 0.98960174 0.99355025 0.99704079 1.\n",
      " 0.61415458 0.61416245 0.61205894 0.60774046 0.60145861 0.59361959\n",
      " 0.58466554 0.57500976 0.56500387 0.554928   0.54499197 0.53534412\n",
      " 0.52608168 0.5172618  0.50891125 0.50103575 0.49362606 0.48666379\n",
      " 0.48012492 0.47398299 0.46821097 0.46278208 0.45767114 0.45285439\n",
      " 0.44831002 0.4440183  0.43996084 0.43612102 0.43248418 0.42903644\n",
      " 0.42576528 0.42265961 0.41970864 0.41690308 0.41423404 0.41169325\n",
      " 0.40927339 0.40696749 0.40476906 0.4026719  0.40067068 0.39875993\n",
      " 0.39693505 0.39519134]\n",
      "44 day output [[0.3935244]]\n",
      "45 day input [0.79295153 0.80497264 0.81747924 0.82930894 0.840561   0.85127852\n",
      " 0.86099863 0.87006981 0.8792867  0.88881195 0.8977528  0.90662664\n",
      " 0.91493479 0.92261999 0.92937478 0.93658259 0.94387723 0.95029467\n",
      " 0.95629852 0.96199883 0.96728922 0.97166521 0.97625741 0.98088038\n",
      " 0.98544747 0.98960174 0.99355025 0.99704079 1.         0.61415458\n",
      " 0.61416245 0.61205894 0.60774046 0.60145861 0.59361959 0.58466554\n",
      " 0.57500976 0.56500387 0.554928   0.54499197 0.53534412 0.52608168\n",
      " 0.5172618  0.50891125 0.50103575 0.49362606 0.48666379 0.48012492\n",
      " 0.47398299 0.46821097 0.46278208 0.45767114 0.45285439 0.44831002\n",
      " 0.4440183  0.43996084 0.43612102 0.43248418 0.42903644 0.42576528\n",
      " 0.42265961 0.41970864 0.41690308 0.41423404 0.41169325 0.40927339\n",
      " 0.40696749 0.40476906 0.4026719  0.40067068 0.39875993 0.39693505\n",
      " 0.39519134 0.39352441]\n",
      "45 day output [[0.39193058]]\n",
      "46 day input [0.80497264 0.81747924 0.82930894 0.840561   0.85127852 0.86099863\n",
      " 0.87006981 0.8792867  0.88881195 0.8977528  0.90662664 0.91493479\n",
      " 0.92261999 0.92937478 0.93658259 0.94387723 0.95029467 0.95629852\n",
      " 0.96199883 0.96728922 0.97166521 0.97625741 0.98088038 0.98544747\n",
      " 0.98960174 0.99355025 0.99704079 1.         0.61415458 0.61416245\n",
      " 0.61205894 0.60774046 0.60145861 0.59361959 0.58466554 0.57500976\n",
      " 0.56500387 0.554928   0.54499197 0.53534412 0.52608168 0.5172618\n",
      " 0.50891125 0.50103575 0.49362606 0.48666379 0.48012492 0.47398299\n",
      " 0.46821097 0.46278208 0.45767114 0.45285439 0.44831002 0.4440183\n",
      " 0.43996084 0.43612102 0.43248418 0.42903644 0.42576528 0.42265961\n",
      " 0.41970864 0.41690308 0.41423404 0.41169325 0.40927339 0.40696749\n",
      " 0.40476906 0.4026719  0.40067068 0.39875993 0.39693505 0.39519134\n",
      " 0.39352441 0.39193058]\n",
      "46 day output [[0.39040583]]\n",
      "47 day input [0.81747924 0.82930894 0.840561   0.85127852 0.86099863 0.87006981\n",
      " 0.8792867  0.88881195 0.8977528  0.90662664 0.91493479 0.92261999\n",
      " 0.92937478 0.93658259 0.94387723 0.95029467 0.95629852 0.96199883\n",
      " 0.96728922 0.97166521 0.97625741 0.98088038 0.98544747 0.98960174\n",
      " 0.99355025 0.99704079 1.         0.61415458 0.61416245 0.61205894\n",
      " 0.60774046 0.60145861 0.59361959 0.58466554 0.57500976 0.56500387\n",
      " 0.554928   0.54499197 0.53534412 0.52608168 0.5172618  0.50891125\n",
      " 0.50103575 0.49362606 0.48666379 0.48012492 0.47398299 0.46821097\n",
      " 0.46278208 0.45767114 0.45285439 0.44831002 0.4440183  0.43996084\n",
      " 0.43612102 0.43248418 0.42903644 0.42576528 0.42265961 0.41970864\n",
      " 0.41690308 0.41423404 0.41169325 0.40927339 0.40696749 0.40476906\n",
      " 0.4026719  0.40067068 0.39875993 0.39693505 0.39519134 0.39352441\n",
      " 0.39193058 0.39040583]\n",
      "47 day output [[0.3889469]]\n",
      "48 day input [0.82930894 0.840561   0.85127852 0.86099863 0.87006981 0.8792867\n",
      " 0.88881195 0.8977528  0.90662664 0.91493479 0.92261999 0.92937478\n",
      " 0.93658259 0.94387723 0.95029467 0.95629852 0.96199883 0.96728922\n",
      " 0.97166521 0.97625741 0.98088038 0.98544747 0.98960174 0.99355025\n",
      " 0.99704079 1.         0.61415458 0.61416245 0.61205894 0.60774046\n",
      " 0.60145861 0.59361959 0.58466554 0.57500976 0.56500387 0.554928\n",
      " 0.54499197 0.53534412 0.52608168 0.5172618  0.50891125 0.50103575\n",
      " 0.49362606 0.48666379 0.48012492 0.47398299 0.46821097 0.46278208\n",
      " 0.45767114 0.45285439 0.44831002 0.4440183  0.43996084 0.43612102\n",
      " 0.43248418 0.42903644 0.42576528 0.42265961 0.41970864 0.41690308\n",
      " 0.41423404 0.41169325 0.40927339 0.40696749 0.40476906 0.4026719\n",
      " 0.40067068 0.39875993 0.39693505 0.39519134 0.39352441 0.39193058\n",
      " 0.39040583 0.38894689]\n",
      "48 day output [[0.38755018]]\n",
      "49 day input [0.840561   0.85127852 0.86099863 0.87006981 0.8792867  0.88881195\n",
      " 0.8977528  0.90662664 0.91493479 0.92261999 0.92937478 0.93658259\n",
      " 0.94387723 0.95029467 0.95629852 0.96199883 0.96728922 0.97166521\n",
      " 0.97625741 0.98088038 0.98544747 0.98960174 0.99355025 0.99704079\n",
      " 1.         0.61415458 0.61416245 0.61205894 0.60774046 0.60145861\n",
      " 0.59361959 0.58466554 0.57500976 0.56500387 0.554928   0.54499197\n",
      " 0.53534412 0.52608168 0.5172618  0.50891125 0.50103575 0.49362606\n",
      " 0.48666379 0.48012492 0.47398299 0.46821097 0.46278208 0.45767114\n",
      " 0.45285439 0.44831002 0.4440183  0.43996084 0.43612102 0.43248418\n",
      " 0.42903644 0.42576528 0.42265961 0.41970864 0.41690308 0.41423404\n",
      " 0.41169325 0.40927339 0.40696749 0.40476906 0.4026719  0.40067068\n",
      " 0.39875993 0.39693505 0.39519134 0.39352441 0.39193058 0.39040583\n",
      " 0.38894689 0.38755018]\n",
      "49 day output [[0.3862129]]\n",
      "[[0.614154577255249], [0.6141624450683594], [0.6120589375495911], [0.6077404618263245], [0.6014586091041565], [0.5936195850372314], [0.5846655368804932], [0.5750097632408142], [0.5650038719177246], [0.5549280047416687], [0.5449919700622559], [0.535344123840332], [0.5260816812515259], [0.517261803150177], [0.5089112520217896], [0.501035749912262], [0.49362605810165405], [0.4866637885570526], [0.48012492060661316], [0.4739829897880554], [0.46821096539497375], [0.462782084941864], [0.4576711356639862], [0.4528543949127197], [0.4483100175857544], [0.44401830434799194], [0.4399608373641968], [0.43612101674079895], [0.4324841797351837], [0.4290364384651184], [0.4257652759552002], [0.42265960574150085], [0.41970863938331604], [0.4169030785560608], [0.4142340421676636], [0.4116932451725006], [0.4092733860015869], [0.40696749091148376], [0.40476906299591064], [0.4026719033718109], [0.4006706774234772], [0.3987599313259125], [0.39693504571914673], [0.39519134163856506], [0.3935244083404541], [0.39193058013916016], [0.3904058337211609], [0.38894689083099365], [0.3875501751899719], [0.38621288537979126]]\n"
     ]
    }
   ],
   "source": [
    "#prediction for next 150 days\n",
    "from numpy import array\n",
    "\n",
    "lst_output=[]\n",
    "n_steps=74\n",
    "i=0\n",
    "while(i<50):\n",
    "    \n",
    "    if(len(temp_input)>74):\n",
    "        #print(temp_input)\n",
    "        x_input=np.array(temp_input[1:])\n",
    "        print(\"{} day input {}\".format(i,x_input))\n",
    "        x_input=x_input.reshape(1,-1)\n",
    "        x_input = x_input.reshape((1, n_steps, 1))\n",
    "        #print(x_input)\n",
    "        yhat = model.predict(x_input, verbose=0)\n",
    "        print(\"{} day output {}\".format(i,yhat))\n",
    "        temp_input.extend(yhat[0].tolist())\n",
    "        temp_input=temp_input[1:]\n",
    "        #print(temp_input)\n",
    "        lst_output.extend(yhat.tolist())\n",
    "        i=i+1\n",
    "    else:\n",
    "        x_input = x_input.reshape((1, n_steps,1))\n",
    "        yhat = model.predict(x_input, verbose=0)\n",
    "        print(yhat[0])\n",
    "        temp_input.extend(yhat[0].tolist())\n",
    "        print(len(temp_input))\n",
    "        lst_output.extend(yhat.tolist())\n",
    "        i=i+1\n",
    "    \n",
    "\n",
    "print(lst_output)"
   ]
  },
  {
   "cell_type": "code",
   "execution_count": 59,
   "metadata": {},
   "outputs": [],
   "source": [
    "day_new=np.arange(1,75)\n",
    "day_pred=np.arange(75,125)"
   ]
  },
  {
   "cell_type": "code",
   "execution_count": 60,
   "metadata": {},
   "outputs": [],
   "source": [
    "import matplotlib.pyplot as plt"
   ]
  },
  {
   "cell_type": "code",
   "execution_count": 61,
   "metadata": {},
   "outputs": [
    {
     "data": {
      "text/plain": [
       "495"
      ]
     },
     "execution_count": 61,
     "metadata": {},
     "output_type": "execute_result"
    }
   ],
   "source": [
    "len(df1)"
   ]
  },
  {
   "cell_type": "code",
   "execution_count": 63,
   "metadata": {},
   "outputs": [
    {
     "data": {
      "text/plain": [
       "[<matplotlib.lines.Line2D at 0x251b15a5880>]"
      ]
     },
     "execution_count": 63,
     "metadata": {},
     "output_type": "execute_result"
    },
    {
     "data": {
      "image/png": "[encoded data removed]",
      "text/plain": [
       "<Figure size 432x288 with 1 Axes>"
      ]
     },
     "metadata": {
      "needs_background": "light"
     },
     "output_type": "display_data"
    }
   ],
   "source": [
    "plt.plot(day_new,scaler.inverse_transform(df1[421:]))\n",
    "plt.plot(day_pred,scaler.inverse_transform(lst_output))"
   ]
  },
  {
   "cell_type": "markdown",
   "metadata": {},
   "source": [
    "As We can see that for the next 50 Days the Total case prediction will drop out to this value "
   ]
  },
  {
   "cell_type": "code",
   "execution_count": 71,
   "metadata": {},
   "outputs": [
    {
     "data": {
      "image/png": "[encoded data removed]",
      "text/plain": [
       "<Figure size 432x288 with 1 Axes>"
      ]
     },
     "metadata": {
      "needs_background": "light"
     },
     "output_type": "display_data"
    }
   ],
   "source": [
    "# Visualising the results\n",
    "plt.plot(test_predict, color = 'red', label = 'Predicted')\n",
    "plt.title('Covid Cases')\n",
    "plt.xlabel('Time')\n",
    "plt.ylabel('No. of cases')\n",
    "plt.legend()\n",
    "plt.show()"
   ]
  }
 ],
 "metadata": {
  "kernelspec": {
   "display_name": "Python 3",
   "language": "python",
   "name": "python3"
  },
  "language_info": {
   "codemirror_mode": {
    "name": "ipython",
    "version": 3
   },
   "file_extension": ".py",
   "mimetype": "text/x-python",
   "name": "python",
   "nbconvert_exporter": "python",
   "pygments_lexer": "ipython3",
   "version": "3.8.3"
  }
 },
 "nbformat": 4,
 "nbformat_minor": 4
}
